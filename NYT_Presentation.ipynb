{
 "cells": [
  {
   "cell_type": "code",
   "execution_count": 1,
   "metadata": {
    "ExecuteTime": {
     "end_time": "2018-12-06T10:01:20.839838Z",
     "start_time": "2018-12-06T10:01:20.824958Z"
    },
    "slideshow": {
     "slide_type": "skip"
    }
   },
   "outputs": [],
   "source": [
    "reset -fs"
   ]
  },
  {
   "cell_type": "code",
   "execution_count": 2,
   "metadata": {
    "ExecuteTime": {
     "end_time": "2018-12-06T10:01:29.352770Z",
     "start_time": "2018-12-06T10:01:29.350311Z"
    },
    "slideshow": {
     "slide_type": "skip"
    }
   },
   "outputs": [],
   "source": [
    "import warnings\n",
    "warnings.simplefilter('ignore')"
   ]
  },
  {
   "cell_type": "code",
   "execution_count": 3,
   "metadata": {
    "ExecuteTime": {
     "end_time": "2018-12-07T06:35:09.521720Z",
     "start_time": "2018-12-07T06:35:07.795970Z"
    },
    "scrolled": true,
    "slideshow": {
     "slide_type": "skip"
    }
   },
   "outputs": [
    {
     "name": "stderr",
     "output_type": "stream",
     "text": [
      "/home/vietpride12/anaconda3/lib/python3.7/site-packages/sklearn/ensemble/weight_boosting.py:29: DeprecationWarning: numpy.core.umath_tests is an internal NumPy module and should not be imported. It will be removed in a future NumPy release.\n",
      "  from numpy.core.umath_tests import inner1d\n"
     ]
    }
   ],
   "source": [
    "from joblib import load\n",
    "import matplotlib.pyplot as plt\n",
    "import pandas as pd\n",
    "from sklearn.ensemble import AdaBoostClassifier\n",
    "from sklearn.feature_extraction.text import CountVectorizer\n",
    "from sklearn.feature_extraction.text import TfidfVectorizer\n",
    "from sklearn.model_selection import train_test_split\n",
    "from sklearn.pipeline import Pipeline\n",
    "from sklearn.preprocessing import OneHotEncoder, LabelEncoder\n",
    "from sklearn.metrics import classification_report"
   ]
  },
  {
   "cell_type": "code",
   "execution_count": 4,
   "metadata": {
    "ExecuteTime": {
     "end_time": "2018-12-07T03:00:28.473872Z",
     "start_time": "2018-12-07T03:00:28.365051Z"
    },
    "slideshow": {
     "slide_type": "skip"
    }
   },
   "outputs": [],
   "source": [
    "%matplotlib inline"
   ]
  },
  {
   "cell_type": "markdown",
   "metadata": {
    "slideshow": {
     "slide_type": "slide"
    }
   },
   "source": [
    "# Predicting New York Times Section Names"
   ]
  },
  {
   "cell_type": "markdown",
   "metadata": {
    "slideshow": {
     "slide_type": "fragment"
    }
   },
   "source": [
    "By: Phil Trinh, Nina Hua, Jacques Sham, Evan Liu, Paul Kim"
   ]
  },
  {
   "cell_type": "markdown",
   "metadata": {
    "slideshow": {
     "slide_type": "slide"
    }
   },
   "source": [
    "# Goal:\n",
    "Our goal in this project was to predict the section that the article lives under (i.e. Sports, Politics, Media, etc.)\n"
   ]
  },
  {
   "cell_type": "markdown",
   "metadata": {
    "slideshow": {
     "slide_type": "slide"
    }
   },
   "source": [
    "Here's a look at some data we were working with:"
   ]
  },
  {
   "cell_type": "code",
   "execution_count": 5,
   "metadata": {
    "ExecuteTime": {
     "end_time": "2018-12-06T10:01:36.348094Z",
     "start_time": "2018-12-06T10:01:36.296354Z"
    },
    "slideshow": {
     "slide_type": "subslide"
    }
   },
   "outputs": [
    {
     "data": {
      "text/html": [
       "<div>\n",
       "<style scoped>\n",
       "    .dataframe tbody tr th:only-of-type {\n",
       "        vertical-align: middle;\n",
       "    }\n",
       "\n",
       "    .dataframe tbody tr th {\n",
       "        vertical-align: top;\n",
       "    }\n",
       "\n",
       "    .dataframe thead th {\n",
       "        text-align: right;\n",
       "    }\n",
       "</style>\n",
       "<table border=\"1\" class=\"dataframe\">\n",
       "  <thead>\n",
       "    <tr style=\"text-align: right;\">\n",
       "      <th></th>\n",
       "      <th>articleID</th>\n",
       "      <th>articleWordCount</th>\n",
       "      <th>byline</th>\n",
       "      <th>documentType</th>\n",
       "      <th>headline</th>\n",
       "      <th>keywords</th>\n",
       "      <th>multimedia</th>\n",
       "      <th>newDesk</th>\n",
       "      <th>printPage</th>\n",
       "      <th>pubDate</th>\n",
       "      <th>sectionName</th>\n",
       "      <th>snippet</th>\n",
       "      <th>source</th>\n",
       "      <th>typeOfMaterial</th>\n",
       "      <th>webURL</th>\n",
       "    </tr>\n",
       "  </thead>\n",
       "  <tbody>\n",
       "    <tr>\n",
       "      <th>0</th>\n",
       "      <td>5adf6684068401528a2aa69b</td>\n",
       "      <td>781</td>\n",
       "      <td>By JOHN BRANCH</td>\n",
       "      <td>article</td>\n",
       "      <td>Former N.F.L. Cheerleaders’ Settlement Offer: ...</td>\n",
       "      <td>['Workplace Hazards and Violations', 'Football...</td>\n",
       "      <td>68</td>\n",
       "      <td>Sports</td>\n",
       "      <td>0</td>\n",
       "      <td>2018-04-24 17:16:49</td>\n",
       "      <td>Pro Football</td>\n",
       "      <td>“I understand that they could meet with us, pa...</td>\n",
       "      <td>The New York Times</td>\n",
       "      <td>News</td>\n",
       "      <td>https://www.nytimes.com/2018/04/24/sports/foot...</td>\n",
       "    </tr>\n",
       "    <tr>\n",
       "      <th>1</th>\n",
       "      <td>5adf653f068401528a2aa697</td>\n",
       "      <td>656</td>\n",
       "      <td>By LISA FRIEDMAN</td>\n",
       "      <td>article</td>\n",
       "      <td>E.P.A. to Unveil a New Rule. Its Effect: Less ...</td>\n",
       "      <td>['Environmental Protection Agency', 'Pruitt, S...</td>\n",
       "      <td>68</td>\n",
       "      <td>Climate</td>\n",
       "      <td>0</td>\n",
       "      <td>2018-04-24 17:11:21</td>\n",
       "      <td>Unknown</td>\n",
       "      <td>The agency plans to publish a new regulation T...</td>\n",
       "      <td>The New York Times</td>\n",
       "      <td>News</td>\n",
       "      <td>https://www.nytimes.com/2018/04/24/climate/epa...</td>\n",
       "    </tr>\n",
       "    <tr>\n",
       "      <th>2</th>\n",
       "      <td>5adf4626068401528a2aa628</td>\n",
       "      <td>2427</td>\n",
       "      <td>By PETE WELLS</td>\n",
       "      <td>article</td>\n",
       "      <td>The New Noma, Explained</td>\n",
       "      <td>['Restaurants', 'Noma (Copenhagen, Restaurant)...</td>\n",
       "      <td>66</td>\n",
       "      <td>Dining</td>\n",
       "      <td>0</td>\n",
       "      <td>2018-04-24 14:58:44</td>\n",
       "      <td>Unknown</td>\n",
       "      <td>What’s it like to eat at the second incarnatio...</td>\n",
       "      <td>The New York Times</td>\n",
       "      <td>News</td>\n",
       "      <td>https://www.nytimes.com/2018/04/24/dining/noma...</td>\n",
       "    </tr>\n",
       "    <tr>\n",
       "      <th>3</th>\n",
       "      <td>5adf40d2068401528a2aa619</td>\n",
       "      <td>626</td>\n",
       "      <td>By JULIE HIRSCHFELD DAVIS and PETER BAKER</td>\n",
       "      <td>article</td>\n",
       "      <td>Unknown</td>\n",
       "      <td>['Macron, Emmanuel (1977- )', 'Trump, Donald J...</td>\n",
       "      <td>68</td>\n",
       "      <td>Washington</td>\n",
       "      <td>0</td>\n",
       "      <td>2018-04-24 14:35:57</td>\n",
       "      <td>Europe</td>\n",
       "      <td>President Trump welcomed President Emmanuel Ma...</td>\n",
       "      <td>The New York Times</td>\n",
       "      <td>News</td>\n",
       "      <td>https://www.nytimes.com/2018/04/24/world/europ...</td>\n",
       "    </tr>\n",
       "    <tr>\n",
       "      <th>4</th>\n",
       "      <td>5adf3d64068401528a2aa60f</td>\n",
       "      <td>815</td>\n",
       "      <td>By IAN AUSTEN and DAN BILEFSKY</td>\n",
       "      <td>article</td>\n",
       "      <td>Unknown</td>\n",
       "      <td>['Toronto, Ontario, Attack (April, 2018)', 'Mu...</td>\n",
       "      <td>68</td>\n",
       "      <td>Foreign</td>\n",
       "      <td>0</td>\n",
       "      <td>2018-04-24 14:21:21</td>\n",
       "      <td>Canada</td>\n",
       "      <td>Alek Minassian, 25, a resident of Toronto’s Ri...</td>\n",
       "      <td>The New York Times</td>\n",
       "      <td>News</td>\n",
       "      <td>https://www.nytimes.com/2018/04/24/world/canad...</td>\n",
       "    </tr>\n",
       "  </tbody>\n",
       "</table>\n",
       "</div>"
      ],
      "text/plain": [
       "                  articleID  articleWordCount  \\\n",
       "0  5adf6684068401528a2aa69b               781   \n",
       "1  5adf653f068401528a2aa697               656   \n",
       "2  5adf4626068401528a2aa628              2427   \n",
       "3  5adf40d2068401528a2aa619               626   \n",
       "4  5adf3d64068401528a2aa60f               815   \n",
       "\n",
       "                                      byline documentType  \\\n",
       "0                             By JOHN BRANCH      article   \n",
       "1                           By LISA FRIEDMAN      article   \n",
       "2                              By PETE WELLS      article   \n",
       "3  By JULIE HIRSCHFELD DAVIS and PETER BAKER      article   \n",
       "4             By IAN AUSTEN and DAN BILEFSKY      article   \n",
       "\n",
       "                                            headline  \\\n",
       "0  Former N.F.L. Cheerleaders’ Settlement Offer: ...   \n",
       "1  E.P.A. to Unveil a New Rule. Its Effect: Less ...   \n",
       "2                            The New Noma, Explained   \n",
       "3                                            Unknown   \n",
       "4                                            Unknown   \n",
       "\n",
       "                                            keywords  multimedia     newDesk  \\\n",
       "0  ['Workplace Hazards and Violations', 'Football...          68      Sports   \n",
       "1  ['Environmental Protection Agency', 'Pruitt, S...          68     Climate   \n",
       "2  ['Restaurants', 'Noma (Copenhagen, Restaurant)...          66      Dining   \n",
       "3  ['Macron, Emmanuel (1977- )', 'Trump, Donald J...          68  Washington   \n",
       "4  ['Toronto, Ontario, Attack (April, 2018)', 'Mu...          68     Foreign   \n",
       "\n",
       "   printPage              pubDate   sectionName  \\\n",
       "0          0  2018-04-24 17:16:49  Pro Football   \n",
       "1          0  2018-04-24 17:11:21       Unknown   \n",
       "2          0  2018-04-24 14:58:44       Unknown   \n",
       "3          0  2018-04-24 14:35:57        Europe   \n",
       "4          0  2018-04-24 14:21:21        Canada   \n",
       "\n",
       "                                             snippet              source  \\\n",
       "0  “I understand that they could meet with us, pa...  The New York Times   \n",
       "1  The agency plans to publish a new regulation T...  The New York Times   \n",
       "2  What’s it like to eat at the second incarnatio...  The New York Times   \n",
       "3  President Trump welcomed President Emmanuel Ma...  The New York Times   \n",
       "4  Alek Minassian, 25, a resident of Toronto’s Ri...  The New York Times   \n",
       "\n",
       "  typeOfMaterial                                             webURL  \n",
       "0           News  https://www.nytimes.com/2018/04/24/sports/foot...  \n",
       "1           News  https://www.nytimes.com/2018/04/24/climate/epa...  \n",
       "2           News  https://www.nytimes.com/2018/04/24/dining/noma...  \n",
       "3           News  https://www.nytimes.com/2018/04/24/world/europ...  \n",
       "4           News  https://www.nytimes.com/2018/04/24/world/canad...  "
      ]
     },
     "execution_count": 5,
     "metadata": {},
     "output_type": "execute_result"
    }
   ],
   "source": [
    "import numpy as np\n",
    "import pandas as pd\n",
    "\n",
    "articles = 'Data/ArticlesApril2018.csv'\n",
    "arts = pd.read_csv(articles)\n",
    "arts.head()"
   ]
  },
  {
   "cell_type": "code",
   "execution_count": 6,
   "metadata": {
    "ExecuteTime": {
     "end_time": "2018-12-06T10:01:41.514826Z",
     "start_time": "2018-12-06T10:01:38.440872Z"
    },
    "slideshow": {
     "slide_type": "subslide"
    }
   },
   "outputs": [
    {
     "data": {
      "text/html": [
       "<div>\n",
       "<style scoped>\n",
       "    .dataframe tbody tr th:only-of-type {\n",
       "        vertical-align: middle;\n",
       "    }\n",
       "\n",
       "    .dataframe tbody tr th {\n",
       "        vertical-align: top;\n",
       "    }\n",
       "\n",
       "    .dataframe thead th {\n",
       "        text-align: right;\n",
       "    }\n",
       "</style>\n",
       "<table border=\"1\" class=\"dataframe\">\n",
       "  <thead>\n",
       "    <tr style=\"text-align: right;\">\n",
       "      <th></th>\n",
       "      <th>approveDate</th>\n",
       "      <th>articleID</th>\n",
       "      <th>articleWordCount</th>\n",
       "      <th>commentBody</th>\n",
       "      <th>commentID</th>\n",
       "      <th>commentSequence</th>\n",
       "      <th>commentTitle</th>\n",
       "      <th>commentType</th>\n",
       "      <th>createDate</th>\n",
       "      <th>depth</th>\n",
       "      <th>...</th>\n",
       "      <th>status</th>\n",
       "      <th>timespeople</th>\n",
       "      <th>trusted</th>\n",
       "      <th>typeOfMaterial</th>\n",
       "      <th>updateDate</th>\n",
       "      <th>userDisplayName</th>\n",
       "      <th>userID</th>\n",
       "      <th>userLocation</th>\n",
       "      <th>userTitle</th>\n",
       "      <th>userURL</th>\n",
       "    </tr>\n",
       "  </thead>\n",
       "  <tbody>\n",
       "    <tr>\n",
       "      <th>0</th>\n",
       "      <td>1524594282</td>\n",
       "      <td>5adf6684068401528a2aa69b</td>\n",
       "      <td>781.0</td>\n",
       "      <td>How could the league possibly refuse this offe...</td>\n",
       "      <td>26853969.0</td>\n",
       "      <td>26853969.0</td>\n",
       "      <td>&lt;br/&gt;</td>\n",
       "      <td>comment</td>\n",
       "      <td>1524594011</td>\n",
       "      <td>1.0</td>\n",
       "      <td>...</td>\n",
       "      <td>approved</td>\n",
       "      <td>1</td>\n",
       "      <td>0</td>\n",
       "      <td>News</td>\n",
       "      <td>1524594282</td>\n",
       "      <td>Christopher Rillo</td>\n",
       "      <td>46566740.0</td>\n",
       "      <td>San Francisco</td>\n",
       "      <td>NaN</td>\n",
       "      <td>NaN</td>\n",
       "    </tr>\n",
       "    <tr>\n",
       "      <th>1</th>\n",
       "      <td>1524594252</td>\n",
       "      <td>5adf6684068401528a2aa69b</td>\n",
       "      <td>781.0</td>\n",
       "      <td>So then the execs can be like \"yeah...we will ...</td>\n",
       "      <td>26853699.0</td>\n",
       "      <td>26853699.0</td>\n",
       "      <td>&lt;br/&gt;</td>\n",
       "      <td>comment</td>\n",
       "      <td>1524593146</td>\n",
       "      <td>1.0</td>\n",
       "      <td>...</td>\n",
       "      <td>approved</td>\n",
       "      <td>1</td>\n",
       "      <td>0</td>\n",
       "      <td>News</td>\n",
       "      <td>1524594252</td>\n",
       "      <td>Matt Brand</td>\n",
       "      <td>64324866.0</td>\n",
       "      <td>Williamsburg, Brooklyn</td>\n",
       "      <td>NaN</td>\n",
       "      <td>NaN</td>\n",
       "    </tr>\n",
       "    <tr>\n",
       "      <th>2</th>\n",
       "      <td>1524594250</td>\n",
       "      <td>5adf6684068401528a2aa69b</td>\n",
       "      <td>781.0</td>\n",
       "      <td>I would not want to play chess against these c...</td>\n",
       "      <td>26853677.0</td>\n",
       "      <td>26853677.0</td>\n",
       "      <td>&lt;br/&gt;</td>\n",
       "      <td>comment</td>\n",
       "      <td>1524593032</td>\n",
       "      <td>1.0</td>\n",
       "      <td>...</td>\n",
       "      <td>approved</td>\n",
       "      <td>1</td>\n",
       "      <td>0</td>\n",
       "      <td>News</td>\n",
       "      <td>1524594250</td>\n",
       "      <td>Joseph</td>\n",
       "      <td>78105093.0</td>\n",
       "      <td>Fayetteville, AR</td>\n",
       "      <td>NaN</td>\n",
       "      <td>NaN</td>\n",
       "    </tr>\n",
       "    <tr>\n",
       "      <th>3</th>\n",
       "      <td>1524593431</td>\n",
       "      <td>5adf6684068401528a2aa69b</td>\n",
       "      <td>781.0</td>\n",
       "      <td>Could the cheerleaders join the Actors' Equity...</td>\n",
       "      <td>26853784.0</td>\n",
       "      <td>26853784.0</td>\n",
       "      <td>&lt;br/&gt;</td>\n",
       "      <td>comment</td>\n",
       "      <td>1524593426</td>\n",
       "      <td>1.0</td>\n",
       "      <td>...</td>\n",
       "      <td>approved</td>\n",
       "      <td>0</td>\n",
       "      <td>0</td>\n",
       "      <td>News</td>\n",
       "      <td>1524593431</td>\n",
       "      <td>Stephen</td>\n",
       "      <td>81939618.0</td>\n",
       "      <td>Phoenix, AZ</td>\n",
       "      <td>NaN</td>\n",
       "      <td>NaN</td>\n",
       "    </tr>\n",
       "    <tr>\n",
       "      <th>4</th>\n",
       "      <td>1524595048</td>\n",
       "      <td>5adf653f068401528a2aa697</td>\n",
       "      <td>656.0</td>\n",
       "      <td>Seeking conclusions which support preconceived...</td>\n",
       "      <td>26854236.0</td>\n",
       "      <td>26854236.0</td>\n",
       "      <td>&lt;br/&gt;</td>\n",
       "      <td>comment</td>\n",
       "      <td>1524595043</td>\n",
       "      <td>1.0</td>\n",
       "      <td>...</td>\n",
       "      <td>approved</td>\n",
       "      <td>1</td>\n",
       "      <td>0</td>\n",
       "      <td>News</td>\n",
       "      <td>1524595048</td>\n",
       "      <td>Paul Zorsky</td>\n",
       "      <td>58642997.0</td>\n",
       "      <td>Texas</td>\n",
       "      <td>NaN</td>\n",
       "      <td>NaN</td>\n",
       "    </tr>\n",
       "  </tbody>\n",
       "</table>\n",
       "<p>5 rows × 34 columns</p>\n",
       "</div>"
      ],
      "text/plain": [
       "   approveDate                 articleID  articleWordCount  \\\n",
       "0   1524594282  5adf6684068401528a2aa69b             781.0   \n",
       "1   1524594252  5adf6684068401528a2aa69b             781.0   \n",
       "2   1524594250  5adf6684068401528a2aa69b             781.0   \n",
       "3   1524593431  5adf6684068401528a2aa69b             781.0   \n",
       "4   1524595048  5adf653f068401528a2aa697             656.0   \n",
       "\n",
       "                                         commentBody   commentID  \\\n",
       "0  How could the league possibly refuse this offe...  26853969.0   \n",
       "1  So then the execs can be like \"yeah...we will ...  26853699.0   \n",
       "2  I would not want to play chess against these c...  26853677.0   \n",
       "3  Could the cheerleaders join the Actors' Equity...  26853784.0   \n",
       "4  Seeking conclusions which support preconceived...  26854236.0   \n",
       "\n",
       "   commentSequence commentTitle commentType  createDate  depth   ...     \\\n",
       "0       26853969.0        <br/>     comment  1524594011    1.0   ...      \n",
       "1       26853699.0        <br/>     comment  1524593146    1.0   ...      \n",
       "2       26853677.0        <br/>     comment  1524593032    1.0   ...      \n",
       "3       26853784.0        <br/>     comment  1524593426    1.0   ...      \n",
       "4       26854236.0        <br/>     comment  1524595043    1.0   ...      \n",
       "\n",
       "     status  timespeople trusted  typeOfMaterial  updateDate  \\\n",
       "0  approved            1       0            News  1524594282   \n",
       "1  approved            1       0            News  1524594252   \n",
       "2  approved            1       0            News  1524594250   \n",
       "3  approved            0       0            News  1524593431   \n",
       "4  approved            1       0            News  1524595048   \n",
       "\n",
       "     userDisplayName      userID            userLocation  userTitle  userURL  \n",
       "0  Christopher Rillo  46566740.0           San Francisco        NaN      NaN  \n",
       "1         Matt Brand  64324866.0  Williamsburg, Brooklyn        NaN      NaN  \n",
       "2             Joseph  78105093.0        Fayetteville, AR        NaN      NaN  \n",
       "3            Stephen  81939618.0             Phoenix, AZ        NaN      NaN  \n",
       "4        Paul Zorsky  58642997.0                   Texas        NaN      NaN  \n",
       "\n",
       "[5 rows x 34 columns]"
      ]
     },
     "execution_count": 6,
     "metadata": {},
     "output_type": "execute_result"
    }
   ],
   "source": [
    "comments = 'Data/CommentsApril2018.csv'\n",
    "comm = pd.read_csv(comments)\n",
    "\n",
    "comm.head()"
   ]
  },
  {
   "cell_type": "markdown",
   "metadata": {
    "slideshow": {
     "slide_type": "notes"
    }
   },
   "source": [
    "The pre-processing we did was to take out the 'Unknown' and NA section names and ensure the comment type was 'comment' rather than 'userReply'. "
   ]
  },
  {
   "cell_type": "markdown",
   "metadata": {
    "slideshow": {
     "slide_type": "notes"
    }
   },
   "source": [
    "These were the initial efforts to minimize noise - later, we implemented pre-processing to handle 'Unknown's. More on this later."
   ]
  },
  {
   "cell_type": "markdown",
   "metadata": {
    "slideshow": {
     "slide_type": "slide"
    }
   },
   "source": [
    "# Modeling Methodology"
   ]
  },
  {
   "cell_type": "markdown",
   "metadata": {
    "slideshow": {
     "slide_type": "subslide"
    }
   },
   "source": [
    "1. Try modeling using 1 month of data, select the best model, then train on 9 months of data.\n",
    "2. Use commentBody to predict the section name.\n",
    "3. Use newDesk and typeOfMaterial to predict.\n",
    "4. Pre-processing: Removed the 'Unknown' sections and the 'userReply' comment types.\n",
    "5. Vectorized our features and used pipeline\n",
    "6. Performed GridSearchCV.\n"
   ]
  },
  {
   "cell_type": "markdown",
   "metadata": {
    "slideshow": {
     "slide_type": "notes"
    }
   },
   "source": [
    "From grid search, pulled the best parameters"
   ]
  },
  {
   "cell_type": "markdown",
   "metadata": {
    "slideshow": {
     "slide_type": "subslide"
    }
   },
   "source": [
    "The models that we tried:\n",
    "1. Logistic Regression\n",
    "2. Naive Bayes\n",
    "3. SVM\n",
    "4. Boosting"
   ]
  },
  {
   "cell_type": "markdown",
   "metadata": {
    "slideshow": {
     "slide_type": "slide"
    }
   },
   "source": [
    "# Let's take a look at some models!"
   ]
  },
  {
   "cell_type": "code",
   "execution_count": 7,
   "metadata": {
    "ExecuteTime": {
     "end_time": "2018-12-07T05:17:29.544922Z",
     "start_time": "2018-12-07T05:17:26.558736Z"
    },
    "slideshow": {
     "slide_type": "subslide"
    }
   },
   "outputs": [],
   "source": [
    "# Comments File\n",
    "comments_file = 'Data/CommentsApril2018.csv'\n",
    "\n",
    "# Read in File\n",
    "comments = pd.read_csv(comments_file)\n",
    "\n",
    "# Filter out articles with \"Unknown\" Section Name\n",
    "filt = (comments.sectionName != \"Unknown\") & (comments.commentType == \"comment\") & comm.sectionName.notna()\n",
    "data = comments.commentBody[filt]\n",
    "sections = comments.sectionName[filt]\n",
    "\n",
    "# Train/Test Split\n",
    "train_data, test_data, train_target, test_target = train_test_split(data, sections)"
   ]
  },
  {
   "cell_type": "markdown",
   "metadata": {
    "slideshow": {
     "slide_type": "subslide"
    }
   },
   "source": [
    "# Logistic Regression"
   ]
  },
  {
   "cell_type": "code",
   "execution_count": 8,
   "metadata": {
    "ExecuteTime": {
     "end_time": "2018-12-07T05:21:45.644889Z",
     "start_time": "2018-12-07T05:21:45.641906Z"
    },
    "slideshow": {
     "slide_type": "subslide"
    }
   },
   "outputs": [],
   "source": [
    "from sklearn.linear_model import LogisticRegression\n",
    "from sklearn.preprocessing import LabelEncoder\n",
    "le = LabelEncoder()\n",
    "\n",
    "le.fit(list(set(comm.sectionName[filt])))\n",
    "\n",
    "data_lgr = comm.commentBody[filt]\n",
    "sections_lgr = le.transform(comm.sectionName[filt])\n",
    "train_data_lgr, test_data_lgr, train_target_lgr, test_target_lgr = train_test_split(data_lgr, sections_lgr)\n",
    "\n",
    "vectorizer = CountVectorizer(decode_error='ignore',\n",
    "                             stop_words='english')\n",
    "\n",
    "lgr_model = Pipeline([('vec', vectorizer),\n",
    "                    ('clf', LogisticRegression(solver='sag',\n",
    "                                               multi_class='multinomial'))])\n",
    " "
   ]
  },
  {
   "cell_type": "code",
   "execution_count": 9,
   "metadata": {
    "ExecuteTime": {
     "end_time": "2018-12-07T05:22:24.718562Z",
     "start_time": "2018-12-07T05:21:46.016709Z"
    },
    "slideshow": {
     "slide_type": "subslide"
    }
   },
   "outputs": [
    {
     "data": {
      "text/plain": [
       "Pipeline(memory=None,\n",
       "     steps=[('vec', CountVectorizer(analyzer='word', binary=False, decode_error='ignore',\n",
       "        dtype=<class 'numpy.int64'>, encoding='utf-8', input='content',\n",
       "        lowercase=True, max_df=1.0, max_features=None, min_df=1,\n",
       "        ngram_range=(1, 1), preprocessor=None, stop_words='english',\n",
       "        s... penalty='l2', random_state=None, solver='sag',\n",
       "          tol=0.0001, verbose=0, warm_start=False))])"
      ]
     },
     "execution_count": 9,
     "metadata": {},
     "output_type": "execute_result"
    }
   ],
   "source": [
    "lgr_model.fit(train_data_lgr,train_target_lgr)"
   ]
  },
  {
   "cell_type": "code",
   "execution_count": 10,
   "metadata": {
    "ExecuteTime": {
     "end_time": "2018-12-07T05:22:25.659402Z",
     "start_time": "2018-12-07T05:22:24.720748Z"
    },
    "slideshow": {
     "slide_type": "fragment"
    }
   },
   "outputs": [
    {
     "data": {
      "text/plain": [
       "0.7208864210995984"
      ]
     },
     "execution_count": 10,
     "metadata": {},
     "output_type": "execute_result"
    }
   ],
   "source": [
    "lgr_model.score(test_data_lgr,test_target_lgr)"
   ]
  },
  {
   "cell_type": "markdown",
   "metadata": {
    "slideshow": {
     "slide_type": "subslide"
    }
   },
   "source": [
    "## Naive Bayes"
   ]
  },
  {
   "cell_type": "markdown",
   "metadata": {
    "slideshow": {
     "slide_type": "notes"
    }
   },
   "source": [
    "So Naive Bayes was kind of our step up from Logistic Regression and the natural progression as we were working with text data. We performed grid search on Naive Bayes on the alpha value as well as the ngram value, and ended up with an alpha value of .3 and ngram of 1."
   ]
  },
  {
   "cell_type": "code",
   "execution_count": 11,
   "metadata": {
    "ExecuteTime": {
     "end_time": "2018-12-06T10:30:53.212774Z",
     "start_time": "2018-12-06T10:30:52.670755Z"
    },
    "slideshow": {
     "slide_type": "fragment"
    }
   },
   "outputs": [],
   "source": [
    "nb_model = load('Models/naive_bayes_small.joblib') "
   ]
  },
  {
   "cell_type": "code",
   "execution_count": 12,
   "metadata": {
    "ExecuteTime": {
     "end_time": "2018-12-06T10:30:55.713282Z",
     "start_time": "2018-12-06T10:30:54.744073Z"
    },
    "slideshow": {
     "slide_type": "fragment"
    }
   },
   "outputs": [
    {
     "data": {
      "text/plain": [
       "0.8017450795696792"
      ]
     },
     "execution_count": 12,
     "metadata": {},
     "output_type": "execute_result"
    }
   ],
   "source": [
    "nb_model.score(test_data, test_target)"
   ]
  },
  {
   "cell_type": "code",
   "execution_count": 13,
   "metadata": {
    "ExecuteTime": {
     "end_time": "2018-12-06T10:31:41.601654Z",
     "start_time": "2018-12-06T10:31:06.558603Z"
    },
    "slideshow": {
     "slide_type": "fragment"
    }
   },
   "outputs": [
    {
     "data": {
      "text/plain": [
       "0.5679936542561103"
      ]
     },
     "execution_count": 13,
     "metadata": {},
     "output_type": "execute_result"
    }
   ],
   "source": [
    "vectorizer = CountVectorizer(decode_error='ignore',\n",
    "                             stop_words='english')\n",
    "\n",
    "booster_NB_model = Pipeline([('vec', vectorizer),\n",
    "                    ('boo', AdaBoostClassifier(nb_model.get_params()['clf']))])\n",
    "\n",
    "booster_NB_model.fit(train_data, train_target)\n",
    "\n",
    "booster_NB_model.score(test_data, test_target)"
   ]
  },
  {
   "cell_type": "code",
   "execution_count": 14,
   "metadata": {
    "ExecuteTime": {
     "end_time": "2018-12-07T03:08:15.298308Z",
     "start_time": "2018-12-07T03:08:14.025944Z"
    },
    "scrolled": true,
    "slideshow": {
     "slide_type": "subslide"
    }
   },
   "outputs": [
    {
     "name": "stdout",
     "output_type": "stream",
     "text": [
      "                        precision    recall  f1-score   support\n",
      "\n",
      "                Africa       1.00      0.50      0.67        62\n",
      "              Americas       0.83      0.52      0.64       228\n",
      "          Art & Design       0.93      0.58      0.72        74\n",
      "          Asia Pacific       0.69      0.74      0.71       963\n",
      "             Australia       1.00      0.21      0.35        19\n",
      "           Book Review       0.80      0.47      0.59       175\n",
      "                Canada       0.90      0.77      0.83       144\n",
      "    College Basketball       1.00      0.58      0.73        19\n",
      "               Cycling       1.00      0.36      0.53        33\n",
      "              DealBook       0.80      0.70      0.74        73\n",
      "                   Eat       0.84      0.74      0.78        99\n",
      "               Economy       0.61      0.73      0.66       299\n",
      "                Europe       0.75      0.58      0.65       695\n",
      "                Family       0.76      0.82      0.79       354\n",
      "                  Golf       1.00      0.33      0.50         9\n",
      "                Hockey       1.00      0.44      0.62         9\n",
      "              Learning       1.00      0.33      0.50        15\n",
      "          Lesson Plans       0.00      0.00      0.00         3\n",
      "                  Live       0.80      0.77      0.78       162\n",
      "                 Media       0.81      0.76      0.78       948\n",
      "           Middle East       0.78      0.78      0.78      1533\n",
      "                  Mind       1.00      0.20      0.33         5\n",
      "                  Move       0.96      0.82      0.88       105\n",
      "                 Music       0.94      0.64      0.76        53\n",
      "         Personal Tech       0.82      0.66      0.73        74\n",
      "              Politics       0.84      0.88      0.86     10338\n",
      "        Pro Basketball       0.00      0.00      0.00         1\n",
      "          Pro Football       1.00      0.36      0.53        14\n",
      "                Soccer       0.00      0.00      0.00         1\n",
      "         Sunday Review       0.72      0.74      0.73      3139\n",
      "            Television       0.86      0.80      0.83       481\n",
      "             The Daily       1.00      0.08      0.15        12\n",
      "              Weddings       0.00      0.00      0.00        14\n",
      "Wine, Beer & Cocktails       0.94      0.83      0.88        18\n",
      "\n",
      "           avg / total       0.80      0.80      0.80     20171\n",
      "\n"
     ]
    }
   ],
   "source": [
    "predictions = nb_model.predict(test_data)\n",
    "print(classification_report(test_target, predictions))"
   ]
  },
  {
   "cell_type": "markdown",
   "metadata": {
    "slideshow": {
     "slide_type": "subslide"
    }
   },
   "source": [
    "## SVM"
   ]
  },
  {
   "cell_type": "code",
   "execution_count": 15,
   "metadata": {
    "ExecuteTime": {
     "end_time": "2018-12-06T10:31:54.640904Z",
     "start_time": "2018-12-06T10:31:41.603163Z"
    },
    "slideshow": {
     "slide_type": "fragment"
    }
   },
   "outputs": [],
   "source": [
    "lsvc_model = load('Models/svm_small.joblib')"
   ]
  },
  {
   "cell_type": "code",
   "execution_count": 16,
   "metadata": {
    "ExecuteTime": {
     "end_time": "2018-12-06T10:31:56.985899Z",
     "start_time": "2018-12-06T10:31:54.642927Z"
    },
    "slideshow": {
     "slide_type": "fragment"
    }
   },
   "outputs": [
    {
     "data": {
      "text/plain": [
       "0.9227603985920381"
      ]
     },
     "execution_count": 16,
     "metadata": {},
     "output_type": "execute_result"
    }
   ],
   "source": [
    "lsvc_model.score(test_data, test_target)"
   ]
  },
  {
   "cell_type": "code",
   "execution_count": 17,
   "metadata": {
    "ExecuteTime": {
     "end_time": "2018-12-06T10:32:28.524752Z",
     "start_time": "2018-12-06T10:31:56.987801Z"
    },
    "slideshow": {
     "slide_type": "fragment"
    }
   },
   "outputs": [
    {
     "data": {
      "text/plain": [
       "0.7633731594863914"
      ]
     },
     "execution_count": 17,
     "metadata": {},
     "output_type": "execute_result"
    }
   ],
   "source": [
    "vectorizer = TfidfVectorizer(input='content',\n",
    "                            analyzer='word',\n",
    "                            stop_words='english',\n",
    "                            decode_error='ignore')\n",
    "\n",
    "booster_LSVC_model = Pipeline([('vec', vectorizer),\n",
    "                               ('boo', AdaBoostClassifier(lsvc_model.get_params()['clf'], algorithm='SAMME'))])\n",
    "\n",
    "booster_LSVC_model.fit(train_data, train_target)\n",
    "\n",
    "booster_LSVC_model.score(test_data, test_target)"
   ]
  },
  {
   "cell_type": "markdown",
   "metadata": {
    "slideshow": {
     "slide_type": "slide"
    }
   },
   "source": [
    "## Which model performed the best?"
   ]
  },
  {
   "cell_type": "markdown",
   "metadata": {
    "slideshow": {
     "slide_type": "fragment"
    }
   },
   "source": [
    "### Yeah, SVM!\n",
    "Let's take a look at how it performs on all the comment data."
   ]
  },
  {
   "cell_type": "code",
   "execution_count": 18,
   "metadata": {
    "ExecuteTime": {
     "end_time": "2018-12-07T03:11:15.973035Z",
     "start_time": "2018-12-07T03:09:41.305083Z"
    },
    "slideshow": {
     "slide_type": "subslide"
    }
   },
   "outputs": [],
   "source": [
    "# Full Comments File\n",
    "comments_file = 'Data/combined_comments.csv'\n",
    "\n",
    "# Read in File\n",
    "comments = pd.read_csv(comments_file).drop('Unnamed: 0', axis=1)\n",
    "\n",
    "# Filter out articles with \"Unknown\" Section Name\n",
    "filt = (comments.sectionName != \"Unknown\") & (comments.commentType == \"comment\") & comments.sectionName.notna()\n",
    "data = comments.commentBody[filt]\n",
    "sections = comments.sectionName[filt]\n",
    "\n",
    "# Train/Test Split\n",
    "train_data, test_data, train_target, test_target = train_test_split(data, sections)"
   ]
  },
  {
   "cell_type": "code",
   "execution_count": 19,
   "metadata": {
    "ExecuteTime": {
     "end_time": "2018-12-07T03:13:54.976974Z",
     "start_time": "2018-12-07T03:11:15.977539Z"
    },
    "slideshow": {
     "slide_type": "fragment"
    }
   },
   "outputs": [],
   "source": [
    "lsvc_full_model = load('Models/svm_full.joblib')"
   ]
  },
  {
   "cell_type": "code",
   "execution_count": 20,
   "metadata": {
    "ExecuteTime": {
     "end_time": "2018-12-07T03:14:28.870045Z",
     "start_time": "2018-12-07T03:13:54.989306Z"
    },
    "slideshow": {
     "slide_type": "fragment"
    }
   },
   "outputs": [
    {
     "data": {
      "text/plain": [
       "0.9311557753593112"
      ]
     },
     "execution_count": 20,
     "metadata": {},
     "output_type": "execute_result"
    }
   ],
   "source": [
    "lsvc_full_model.score(test_data, test_target)"
   ]
  },
  {
   "cell_type": "code",
   "execution_count": 21,
   "metadata": {
    "ExecuteTime": {
     "end_time": "2018-12-07T03:21:23.440509Z",
     "start_time": "2018-12-07T03:14:28.876011Z"
    },
    "slideshow": {
     "slide_type": "subslide"
    }
   },
   "outputs": [
    {
     "data": {
      "text/plain": [
       "0.7256361372382112"
      ]
     },
     "execution_count": 21,
     "metadata": {},
     "output_type": "execute_result"
    }
   ],
   "source": [
    "vectorizer = TfidfVectorizer(input='content',\n",
    "                            analyzer='word',\n",
    "                            stop_words='english',\n",
    "                            decode_error='ignore')\n",
    "\n",
    "booster_LSVC_full_model = Pipeline([('vec', vectorizer),\n",
    "                               ('boo', AdaBoostClassifier(lsvc_full_model.get_params()['clf'], algorithm='SAMME'))])\n",
    "\n",
    "booster_LSVC_full_model.fit(train_data, train_target)\n",
    "\n",
    "booster_LSVC_full_model.score(test_data, test_target)"
   ]
  },
  {
   "cell_type": "code",
   "execution_count": 22,
   "metadata": {
    "ExecuteTime": {
     "end_time": "2018-12-07T03:22:00.674762Z",
     "start_time": "2018-12-07T03:21:23.447913Z"
    },
    "scrolled": true,
    "slideshow": {
     "slide_type": "subslide"
    }
   },
   "outputs": [
    {
     "name": "stdout",
     "output_type": "stream",
     "text": [
      "                            precision    recall  f1-score   support\n",
      "\n",
      "401(k)'s and Similar Plans       1.00      0.76      0.87        17\n",
      "                    Africa       0.98      0.76      0.86       233\n",
      "                  Americas       0.97      0.82      0.89      1233\n",
      "                       Art       1.00      0.75      0.86        12\n",
      "              Art & Design       0.98      0.90      0.94       898\n",
      "              Asia Pacific       0.93      0.85      0.89      4432\n",
      "                 Australia       0.95      0.81      0.88       104\n",
      "               Auto Racing       1.00      0.78      0.88        18\n",
      "               Automobiles       1.00      0.67      0.80         9\n",
      "                  Baseball       0.96      0.93      0.95       541\n",
      "               Book Review       0.99      0.78      0.87       431\n",
      "                    Canada       0.97      0.83      0.90       401\n",
      "        College Basketball       0.97      0.88      0.92       169\n",
      "          College Football       1.00      0.75      0.86        81\n",
      "                   Cycling       0.96      0.84      0.90        32\n",
      "                     Dance       0.97      0.90      0.94        40\n",
      "                  DealBook       0.97      0.83      0.89       901\n",
      "                       Eat       0.92      0.86      0.89       569\n",
      "                   Economy       0.94      0.82      0.87      1882\n",
      "                Editorials       0.99      0.79      0.88       206\n",
      "            Education Life       1.00      0.79      0.88       276\n",
      "     Energy & Environment        0.96      0.85      0.90       304\n",
      "          Entrepreneurship       0.67      0.50      0.57         4\n",
      "                    Europe       0.94      0.84      0.89      7683\n",
      "                    Family       0.92      0.89      0.91      2487\n",
      "                      Food       1.00      1.00      1.00         1\n",
      "                      Golf       1.00      0.87      0.93        76\n",
      "                    Hockey       0.93      0.77      0.84        66\n",
      "            Insider Events       1.00      1.00      1.00         5\n",
      "                  Learning       1.00      0.64      0.78        14\n",
      "              Lesson Plans       1.00      0.83      0.91        41\n",
      "                      Live       0.93      0.89      0.91      1543\n",
      "                     Media       0.96      0.86      0.90      3219\n",
      "               Middle East       0.93      0.89      0.91      5102\n",
      "                      Mind       0.95      0.82      0.88       302\n",
      "                      Move       0.94      0.90      0.92       939\n",
      "                     Music       0.97      0.91      0.94       445\n",
      "             Neighborhoods       1.00      1.00      1.00         6\n",
      "                  Olympics       0.98      0.89      0.93       587\n",
      "        Opinion | Politics       1.00      0.83      0.91       175\n",
      "        Paying for College       1.00      0.78      0.88        18\n",
      "             Personal Tech       1.00      0.81      0.89       118\n",
      "                  Politics       0.93      0.98      0.95     77968\n",
      "            Pro Basketball       0.99      0.91      0.95       142\n",
      "              Pro Football       0.96      0.92      0.94       369\n",
      "               Real Estate       1.00      1.00      1.00         3\n",
      "                Retirement       1.00      0.78      0.88        78\n",
      "           Room For Debate       0.97      0.84      0.90       172\n",
      "                     Rugby       1.00      0.89      0.94        19\n",
      "                    Soccer       0.96      0.88      0.92       148\n",
      "             Student Loans       0.98      0.84      0.91        51\n",
      "             Sunday Review       0.91      0.90      0.90     24922\n",
      "                Television       0.97      0.90      0.94      2355\n",
      "                    Tennis       0.98      0.88      0.93        99\n",
      "                 The Daily       1.00      0.68      0.81        37\n",
      "                  Weddings       1.00      0.80      0.89        25\n",
      "    Wine, Beer & Cocktails       0.98      0.89      0.93       137\n",
      "                 World Cup       1.00      0.50      0.67         2\n",
      "\n",
      "               avg / total       0.93      0.93      0.93    142147\n",
      "\n"
     ]
    }
   ],
   "source": [
    "predictions = lsvc_full_model.predict(test_data)\n",
    "print(classification_report(test_target, predictions))"
   ]
  },
  {
   "cell_type": "markdown",
   "metadata": {
    "slideshow": {
     "slide_type": "slide"
    }
   },
   "source": [
    "# SVM continued: newDesk + material_label"
   ]
  },
  {
   "cell_type": "code",
   "execution_count": 23,
   "metadata": {
    "ExecuteTime": {
     "end_time": "2018-12-07T03:03:50.873097Z",
     "start_time": "2018-12-07T03:03:18.766196Z"
    },
    "slideshow": {
     "slide_type": "subslide"
    }
   },
   "outputs": [],
   "source": [
    "# Full File\n",
    "everything = 'Data/combined_everything.csv'\n",
    "\n",
    "# Read in File\n",
    "full_data = pd.read_csv(everything)\n",
    "\n",
    "# Filter out articles with \"Unknown\" Section Name\n",
    "filt = (full_data.sectionName != \"Unknown\") & (full_data.commentType == \"comment\")\n",
    "full_filt = full_data[filt].copy().reset_index()"
   ]
  },
  {
   "cell_type": "code",
   "execution_count": 24,
   "metadata": {
    "ExecuteTime": {
     "end_time": "2018-12-07T03:04:17.833570Z",
     "start_time": "2018-12-07T03:04:15.464110Z"
    },
    "slideshow": {
     "slide_type": "subslide"
    }
   },
   "outputs": [],
   "source": [
    "# Transform and map newDesk categories \n",
    "newDesk_le = LabelEncoder()\n",
    "newDesk_labels = newDesk_le.fit_transform(full_filt['newDesk'])\n",
    "full_filt['newDesk_label'] = newDesk_labels\n",
    "\n",
    "# Encoding newDesk\n",
    "newDesk_ohe = OneHotEncoder()\n",
    "newDesk_feature_arr = newDesk_ohe.fit_transform(full_filt[['newDesk_label']]).toarray()\n",
    "newDesk_feature_labels = list(newDesk_le.classes_)\n",
    "newDesk_features = pd.DataFrame(newDesk_feature_arr, columns=newDesk_feature_labels)\n",
    "\n",
    "# Transform and map typeOfMaterial categories \n",
    "material_le = LabelEncoder()\n",
    "material_labels = material_le.fit_transform(full_filt['typeOfMaterial'])\n",
    "full_filt['material_label'] = material_labels\n",
    "\n",
    "# Encoding typeOfMaterial\n",
    "material_ohe = OneHotEncoder()\n",
    "material_feature_arr = material_ohe.fit_transform(full_filt[['material_label']]).toarray()\n",
    "material_feature_labels = list(material_le.classes_)\n",
    "material_features = pd.DataFrame(material_feature_arr, columns=material_feature_labels)\n",
    "\n",
    "# Subsetting comment data frame and concatenating with new features\n",
    "full_filt_sub = full_filt.loc[:,['commentBody', 'sectionName']]\n",
    "full_df_ohe = pd.concat([full_filt_sub, newDesk_features, material_features], axis=1)\n",
    "\n",
    "# Split to Data and Labels\n",
    "data = full_df_ohe.loc[:,newDesk_feature_labels]\n",
    "sections = full_df_ohe.sectionName"
   ]
  },
  {
   "cell_type": "code",
   "execution_count": 25,
   "metadata": {
    "ExecuteTime": {
     "end_time": "2018-12-07T03:04:22.186755Z",
     "start_time": "2018-12-07T03:04:21.528515Z"
    },
    "slideshow": {
     "slide_type": "subslide"
    }
   },
   "outputs": [],
   "source": [
    "# Train/Test Split\n",
    "train_data_no_unknown, test_data_no_unknown, train_target_no_unknown, test_target_no_unknown = train_test_split(data, sections)\n",
    "train_target_no_unknown = train_target_no_unknown.astype(str)\n",
    "test_target_no_unknown = test_target_no_unknown.astype(str)"
   ]
  },
  {
   "cell_type": "code",
   "execution_count": 26,
   "metadata": {
    "ExecuteTime": {
     "end_time": "2018-12-07T03:04:26.667142Z",
     "start_time": "2018-12-07T03:04:26.660383Z"
    },
    "slideshow": {
     "slide_type": "fragment"
    }
   },
   "outputs": [],
   "source": [
    "lsvc_ohe_full_model = load('Models/ohe_linearsvm_full.joblib')"
   ]
  },
  {
   "cell_type": "code",
   "execution_count": 27,
   "metadata": {
    "ExecuteTime": {
     "end_time": "2018-12-07T03:04:29.402624Z",
     "start_time": "2018-12-07T03:04:29.004363Z"
    },
    "slideshow": {
     "slide_type": "fragment"
    }
   },
   "outputs": [
    {
     "data": {
      "text/plain": [
       "0.7232874279027"
      ]
     },
     "execution_count": 27,
     "metadata": {},
     "output_type": "execute_result"
    }
   ],
   "source": [
    "lsvc_ohe_full_model.score(test_data_no_unknown, test_target_no_unknown)"
   ]
  },
  {
   "cell_type": "markdown",
   "metadata": {
    "slideshow": {
     "slide_type": "notes"
    }
   },
   "source": [
    "LDA is an unsupervised learning technique that is often used in topic modeling - was developed by Andrew Ng in 2003.\n",
    "Didn't quite work - why?"
   ]
  },
  {
   "cell_type": "markdown",
   "metadata": {
    "slideshow": {
     "slide_type": "slide"
    }
   },
   "source": [
    "## Dealing with Unknowns/The Issue of Class Imbalance"
   ]
  },
  {
   "cell_type": "code",
   "execution_count": 28,
   "metadata": {
    "ExecuteTime": {
     "end_time": "2018-12-07T03:04:49.091261Z",
     "start_time": "2018-12-07T03:04:49.053022Z"
    },
    "scrolled": true,
    "slideshow": {
     "slide_type": "subslide"
    }
   },
   "outputs": [
    {
     "data": {
      "text/html": [
       "<div>\n",
       "<style scoped>\n",
       "    .dataframe tbody tr th:only-of-type {\n",
       "        vertical-align: middle;\n",
       "    }\n",
       "\n",
       "    .dataframe tbody tr th {\n",
       "        vertical-align: top;\n",
       "    }\n",
       "\n",
       "    .dataframe thead th {\n",
       "        text-align: right;\n",
       "    }\n",
       "</style>\n",
       "<table border=\"1\" class=\"dataframe\">\n",
       "  <thead>\n",
       "    <tr style=\"text-align: right;\">\n",
       "      <th></th>\n",
       "      <th>Index</th>\n",
       "      <th>Training_count</th>\n",
       "      <th>Percent_training</th>\n",
       "      <th>Predict_count</th>\n",
       "      <th>Percent_predict</th>\n",
       "      <th>Percent_predict_more</th>\n",
       "    </tr>\n",
       "  </thead>\n",
       "  <tbody>\n",
       "    <tr>\n",
       "      <th>0</th>\n",
       "      <td>Politics</td>\n",
       "      <td>310682</td>\n",
       "      <td>0.452751</td>\n",
       "      <td>408967</td>\n",
       "      <td>0.557028</td>\n",
       "      <td>1.042480e-01</td>\n",
       "    </tr>\n",
       "    <tr>\n",
       "      <th>1</th>\n",
       "      <td>Sunday Review</td>\n",
       "      <td>99848</td>\n",
       "      <td>0.145507</td>\n",
       "      <td>236518</td>\n",
       "      <td>0.322146</td>\n",
       "      <td>1.766357e-01</td>\n",
       "    </tr>\n",
       "    <tr>\n",
       "      <th>2</th>\n",
       "      <td>Europe</td>\n",
       "      <td>30698</td>\n",
       "      <td>0.044736</td>\n",
       "      <td>14010</td>\n",
       "      <td>0.019082</td>\n",
       "      <td>-2.565002e-02</td>\n",
       "    </tr>\n",
       "    <tr>\n",
       "      <th>3</th>\n",
       "      <td>Middle East</td>\n",
       "      <td>20678</td>\n",
       "      <td>0.030134</td>\n",
       "      <td>9913</td>\n",
       "      <td>0.013502</td>\n",
       "      <td>-1.663208e-02</td>\n",
       "    </tr>\n",
       "    <tr>\n",
       "      <th>4</th>\n",
       "      <td>Asia Pacific</td>\n",
       "      <td>17959</td>\n",
       "      <td>0.026171</td>\n",
       "      <td>6220</td>\n",
       "      <td>0.008472</td>\n",
       "      <td>-1.770020e-02</td>\n",
       "    </tr>\n",
       "    <tr>\n",
       "      <th>5</th>\n",
       "      <td>Media</td>\n",
       "      <td>12967</td>\n",
       "      <td>0.018897</td>\n",
       "      <td>5939</td>\n",
       "      <td>0.008089</td>\n",
       "      <td>-1.081085e-02</td>\n",
       "    </tr>\n",
       "    <tr>\n",
       "      <th>6</th>\n",
       "      <td>Family</td>\n",
       "      <td>10017</td>\n",
       "      <td>0.014598</td>\n",
       "      <td>12208</td>\n",
       "      <td>0.016628</td>\n",
       "      <td>2.029419e-03</td>\n",
       "    </tr>\n",
       "    <tr>\n",
       "      <th>7</th>\n",
       "      <td>Television</td>\n",
       "      <td>9343</td>\n",
       "      <td>0.013615</td>\n",
       "      <td>4505</td>\n",
       "      <td>0.006136</td>\n",
       "      <td>-7.480621e-03</td>\n",
       "    </tr>\n",
       "    <tr>\n",
       "      <th>8</th>\n",
       "      <td>Economy</td>\n",
       "      <td>7272</td>\n",
       "      <td>0.010597</td>\n",
       "      <td>7701</td>\n",
       "      <td>0.010489</td>\n",
       "      <td>-1.083016e-04</td>\n",
       "    </tr>\n",
       "    <tr>\n",
       "      <th>9</th>\n",
       "      <td>Live</td>\n",
       "      <td>6275</td>\n",
       "      <td>0.009144</td>\n",
       "      <td>6560</td>\n",
       "      <td>0.008935</td>\n",
       "      <td>-2.094507e-04</td>\n",
       "    </tr>\n",
       "    <tr>\n",
       "      <th>10</th>\n",
       "      <td>Americas</td>\n",
       "      <td>4972</td>\n",
       "      <td>0.007246</td>\n",
       "      <td>1239</td>\n",
       "      <td>0.001688</td>\n",
       "      <td>-5.558014e-03</td>\n",
       "    </tr>\n",
       "    <tr>\n",
       "      <th>11</th>\n",
       "      <td>Move</td>\n",
       "      <td>3823</td>\n",
       "      <td>0.005571</td>\n",
       "      <td>1924</td>\n",
       "      <td>0.002621</td>\n",
       "      <td>-2.950668e-03</td>\n",
       "    </tr>\n",
       "    <tr>\n",
       "      <th>12</th>\n",
       "      <td>Art &amp; Design</td>\n",
       "      <td>3609</td>\n",
       "      <td>0.005259</td>\n",
       "      <td>3259</td>\n",
       "      <td>0.004439</td>\n",
       "      <td>-8.206367e-04</td>\n",
       "    </tr>\n",
       "    <tr>\n",
       "      <th>13</th>\n",
       "      <td>DealBook</td>\n",
       "      <td>3501</td>\n",
       "      <td>0.005102</td>\n",
       "      <td>2214</td>\n",
       "      <td>0.003016</td>\n",
       "      <td>-2.086639e-03</td>\n",
       "    </tr>\n",
       "    <tr>\n",
       "      <th>14</th>\n",
       "      <td>Eat</td>\n",
       "      <td>2478</td>\n",
       "      <td>0.003611</td>\n",
       "      <td>1456</td>\n",
       "      <td>0.001983</td>\n",
       "      <td>-1.627922e-03</td>\n",
       "    </tr>\n",
       "    <tr>\n",
       "      <th>15</th>\n",
       "      <td>Olympics</td>\n",
       "      <td>2308</td>\n",
       "      <td>0.003363</td>\n",
       "      <td>1225</td>\n",
       "      <td>0.001668</td>\n",
       "      <td>-1.694679e-03</td>\n",
       "    </tr>\n",
       "    <tr>\n",
       "      <th>16</th>\n",
       "      <td>Baseball</td>\n",
       "      <td>2119</td>\n",
       "      <td>0.003088</td>\n",
       "      <td>1075</td>\n",
       "      <td>0.001464</td>\n",
       "      <td>-1.624107e-03</td>\n",
       "    </tr>\n",
       "    <tr>\n",
       "      <th>17</th>\n",
       "      <td>Book Review</td>\n",
       "      <td>1864</td>\n",
       "      <td>0.002716</td>\n",
       "      <td>301</td>\n",
       "      <td>0.000410</td>\n",
       "      <td>-2.305984e-03</td>\n",
       "    </tr>\n",
       "    <tr>\n",
       "      <th>18</th>\n",
       "      <td>Music</td>\n",
       "      <td>1816</td>\n",
       "      <td>0.002646</td>\n",
       "      <td>863</td>\n",
       "      <td>0.001175</td>\n",
       "      <td>-1.470566e-03</td>\n",
       "    </tr>\n",
       "    <tr>\n",
       "      <th>19</th>\n",
       "      <td>Canada</td>\n",
       "      <td>1547</td>\n",
       "      <td>0.002254</td>\n",
       "      <td>754</td>\n",
       "      <td>0.001027</td>\n",
       "      <td>-1.227379e-03</td>\n",
       "    </tr>\n",
       "    <tr>\n",
       "      <th>20</th>\n",
       "      <td>Pro Football</td>\n",
       "      <td>1448</td>\n",
       "      <td>0.002110</td>\n",
       "      <td>1393</td>\n",
       "      <td>0.001897</td>\n",
       "      <td>-2.127886e-04</td>\n",
       "    </tr>\n",
       "    <tr>\n",
       "      <th>21</th>\n",
       "      <td>Energy &amp; Environment</td>\n",
       "      <td>1210</td>\n",
       "      <td>0.001763</td>\n",
       "      <td>2416</td>\n",
       "      <td>0.003291</td>\n",
       "      <td>1.527786e-03</td>\n",
       "    </tr>\n",
       "    <tr>\n",
       "      <th>22</th>\n",
       "      <td>Mind</td>\n",
       "      <td>1206</td>\n",
       "      <td>0.001757</td>\n",
       "      <td>302</td>\n",
       "      <td>0.000411</td>\n",
       "      <td>-1.346588e-03</td>\n",
       "    </tr>\n",
       "    <tr>\n",
       "      <th>23</th>\n",
       "      <td>Education Life</td>\n",
       "      <td>1177</td>\n",
       "      <td>0.001715</td>\n",
       "      <td>219</td>\n",
       "      <td>0.000298</td>\n",
       "      <td>-1.417160e-03</td>\n",
       "    </tr>\n",
       "    <tr>\n",
       "      <th>24</th>\n",
       "      <td>Africa</td>\n",
       "      <td>899</td>\n",
       "      <td>0.001310</td>\n",
       "      <td>163</td>\n",
       "      <td>0.000222</td>\n",
       "      <td>-1.088142e-03</td>\n",
       "    </tr>\n",
       "    <tr>\n",
       "      <th>25</th>\n",
       "      <td>Editorials</td>\n",
       "      <td>876</td>\n",
       "      <td>0.001277</td>\n",
       "      <td>80</td>\n",
       "      <td>0.000109</td>\n",
       "      <td>-1.167297e-03</td>\n",
       "    </tr>\n",
       "    <tr>\n",
       "      <th>26</th>\n",
       "      <td>College Basketball</td>\n",
       "      <td>751</td>\n",
       "      <td>0.001094</td>\n",
       "      <td>364</td>\n",
       "      <td>0.000496</td>\n",
       "      <td>-5.984306e-04</td>\n",
       "    </tr>\n",
       "    <tr>\n",
       "      <th>27</th>\n",
       "      <td>Room For Debate</td>\n",
       "      <td>749</td>\n",
       "      <td>0.001092</td>\n",
       "      <td>301</td>\n",
       "      <td>0.000410</td>\n",
       "      <td>-6.814003e-04</td>\n",
       "    </tr>\n",
       "    <tr>\n",
       "      <th>28</th>\n",
       "      <td>Opinion | Politics</td>\n",
       "      <td>696</td>\n",
       "      <td>0.001014</td>\n",
       "      <td>177</td>\n",
       "      <td>0.000241</td>\n",
       "      <td>-7.729530e-04</td>\n",
       "    </tr>\n",
       "    <tr>\n",
       "      <th>29</th>\n",
       "      <td>Soccer</td>\n",
       "      <td>678</td>\n",
       "      <td>0.000988</td>\n",
       "      <td>265</td>\n",
       "      <td>0.000361</td>\n",
       "      <td>-6.270409e-04</td>\n",
       "    </tr>\n",
       "    <tr>\n",
       "      <th>30</th>\n",
       "      <td>Pro Basketball</td>\n",
       "      <td>628</td>\n",
       "      <td>0.000915</td>\n",
       "      <td>308</td>\n",
       "      <td>0.000420</td>\n",
       "      <td>-4.954338e-04</td>\n",
       "    </tr>\n",
       "    <tr>\n",
       "      <th>31</th>\n",
       "      <td>Wine, Beer &amp; Cocktails</td>\n",
       "      <td>598</td>\n",
       "      <td>0.000871</td>\n",
       "      <td>700</td>\n",
       "      <td>0.000953</td>\n",
       "      <td>8.195639e-05</td>\n",
       "    </tr>\n",
       "    <tr>\n",
       "      <th>32</th>\n",
       "      <td>Personal Tech</td>\n",
       "      <td>473</td>\n",
       "      <td>0.000689</td>\n",
       "      <td>88</td>\n",
       "      <td>0.000120</td>\n",
       "      <td>-5.693436e-04</td>\n",
       "    </tr>\n",
       "    <tr>\n",
       "      <th>33</th>\n",
       "      <td>Tennis</td>\n",
       "      <td>447</td>\n",
       "      <td>0.000651</td>\n",
       "      <td>78</td>\n",
       "      <td>0.000106</td>\n",
       "      <td>-5.450249e-04</td>\n",
       "    </tr>\n",
       "    <tr>\n",
       "      <th>34</th>\n",
       "      <td>College Football</td>\n",
       "      <td>362</td>\n",
       "      <td>0.000528</td>\n",
       "      <td>56</td>\n",
       "      <td>0.000076</td>\n",
       "      <td>-4.513264e-04</td>\n",
       "    </tr>\n",
       "    <tr>\n",
       "      <th>35</th>\n",
       "      <td>Australia</td>\n",
       "      <td>357</td>\n",
       "      <td>0.000520</td>\n",
       "      <td>128</td>\n",
       "      <td>0.000174</td>\n",
       "      <td>-3.459454e-04</td>\n",
       "    </tr>\n",
       "    <tr>\n",
       "      <th>36</th>\n",
       "      <td>Retirement</td>\n",
       "      <td>327</td>\n",
       "      <td>0.000477</td>\n",
       "      <td>39</td>\n",
       "      <td>0.000053</td>\n",
       "      <td>-4.234314e-04</td>\n",
       "    </tr>\n",
       "    <tr>\n",
       "      <th>37</th>\n",
       "      <td>Golf</td>\n",
       "      <td>320</td>\n",
       "      <td>0.000466</td>\n",
       "      <td>45</td>\n",
       "      <td>0.000061</td>\n",
       "      <td>-4.050732e-04</td>\n",
       "    </tr>\n",
       "    <tr>\n",
       "      <th>38</th>\n",
       "      <td>Hockey</td>\n",
       "      <td>245</td>\n",
       "      <td>0.000357</td>\n",
       "      <td>47</td>\n",
       "      <td>0.000064</td>\n",
       "      <td>-2.930164e-04</td>\n",
       "    </tr>\n",
       "    <tr>\n",
       "      <th>39</th>\n",
       "      <td>Student Loans</td>\n",
       "      <td>182</td>\n",
       "      <td>0.000265</td>\n",
       "      <td>22</td>\n",
       "      <td>0.000030</td>\n",
       "      <td>-2.353191e-04</td>\n",
       "    </tr>\n",
       "    <tr>\n",
       "      <th>40</th>\n",
       "      <td>Dance</td>\n",
       "      <td>180</td>\n",
       "      <td>0.000262</td>\n",
       "      <td>38</td>\n",
       "      <td>0.000052</td>\n",
       "      <td>-2.105236e-04</td>\n",
       "    </tr>\n",
       "    <tr>\n",
       "      <th>41</th>\n",
       "      <td>Lesson Plans</td>\n",
       "      <td>167</td>\n",
       "      <td>0.000243</td>\n",
       "      <td>15</td>\n",
       "      <td>0.000020</td>\n",
       "      <td>-2.229214e-04</td>\n",
       "    </tr>\n",
       "    <tr>\n",
       "      <th>42</th>\n",
       "      <td>The Daily</td>\n",
       "      <td>137</td>\n",
       "      <td>0.000200</td>\n",
       "      <td>13</td>\n",
       "      <td>0.000018</td>\n",
       "      <td>-1.819134e-04</td>\n",
       "    </tr>\n",
       "    <tr>\n",
       "      <th>43</th>\n",
       "      <td>Cycling</td>\n",
       "      <td>121</td>\n",
       "      <td>0.000176</td>\n",
       "      <td>19</td>\n",
       "      <td>0.000026</td>\n",
       "      <td>-1.504421e-04</td>\n",
       "    </tr>\n",
       "    <tr>\n",
       "      <th>44</th>\n",
       "      <td>Weddings</td>\n",
       "      <td>93</td>\n",
       "      <td>0.000136</td>\n",
       "      <td>21</td>\n",
       "      <td>0.000029</td>\n",
       "      <td>-1.069307e-04</td>\n",
       "    </tr>\n",
       "    <tr>\n",
       "      <th>45</th>\n",
       "      <td>Rugby</td>\n",
       "      <td>91</td>\n",
       "      <td>0.000133</td>\n",
       "      <td>11</td>\n",
       "      <td>0.000015</td>\n",
       "      <td>-1.176596e-04</td>\n",
       "    </tr>\n",
       "    <tr>\n",
       "      <th>46</th>\n",
       "      <td>Paying for College</td>\n",
       "      <td>64</td>\n",
       "      <td>0.000093</td>\n",
       "      <td>8</td>\n",
       "      <td>0.000011</td>\n",
       "      <td>-8.237362e-05</td>\n",
       "    </tr>\n",
       "    <tr>\n",
       "      <th>47</th>\n",
       "      <td>Auto Racing</td>\n",
       "      <td>50</td>\n",
       "      <td>0.000073</td>\n",
       "      <td>10</td>\n",
       "      <td>0.000014</td>\n",
       "      <td>-5.924702e-05</td>\n",
       "    </tr>\n",
       "    <tr>\n",
       "      <th>48</th>\n",
       "      <td>401(k)'s and Similar Plans</td>\n",
       "      <td>49</td>\n",
       "      <td>0.000071</td>\n",
       "      <td>15</td>\n",
       "      <td>0.000020</td>\n",
       "      <td>-5.096197e-05</td>\n",
       "    </tr>\n",
       "    <tr>\n",
       "      <th>49</th>\n",
       "      <td>Automobiles</td>\n",
       "      <td>29</td>\n",
       "      <td>0.000042</td>\n",
       "      <td>1</td>\n",
       "      <td>0.000001</td>\n",
       "      <td>-4.088879e-05</td>\n",
       "    </tr>\n",
       "    <tr>\n",
       "      <th>50</th>\n",
       "      <td>Neighborhoods</td>\n",
       "      <td>23</td>\n",
       "      <td>0.000034</td>\n",
       "      <td>1</td>\n",
       "      <td>0.000001</td>\n",
       "      <td>-3.212690e-05</td>\n",
       "    </tr>\n",
       "    <tr>\n",
       "      <th>51</th>\n",
       "      <td>Opinion | The World</td>\n",
       "      <td>1</td>\n",
       "      <td>0.000001</td>\n",
       "      <td>1</td>\n",
       "      <td>0.000001</td>\n",
       "      <td>-1.192093e-07</td>\n",
       "    </tr>\n",
       "  </tbody>\n",
       "</table>\n",
       "</div>"
      ],
      "text/plain": [
       "                         Index  Training_count  Percent_training  \\\n",
       "0                     Politics          310682          0.452751   \n",
       "1                Sunday Review           99848          0.145507   \n",
       "2                       Europe           30698          0.044736   \n",
       "3                  Middle East           20678          0.030134   \n",
       "4                 Asia Pacific           17959          0.026171   \n",
       "5                        Media           12967          0.018897   \n",
       "6                       Family           10017          0.014598   \n",
       "7                   Television            9343          0.013615   \n",
       "8                      Economy            7272          0.010597   \n",
       "9                         Live            6275          0.009144   \n",
       "10                    Americas            4972          0.007246   \n",
       "11                        Move            3823          0.005571   \n",
       "12                Art & Design            3609          0.005259   \n",
       "13                    DealBook            3501          0.005102   \n",
       "14                         Eat            2478          0.003611   \n",
       "15                    Olympics            2308          0.003363   \n",
       "16                    Baseball            2119          0.003088   \n",
       "17                 Book Review            1864          0.002716   \n",
       "18                       Music            1816          0.002646   \n",
       "19                      Canada            1547          0.002254   \n",
       "20                Pro Football            1448          0.002110   \n",
       "21       Energy & Environment             1210          0.001763   \n",
       "22                        Mind            1206          0.001757   \n",
       "23              Education Life            1177          0.001715   \n",
       "24                      Africa             899          0.001310   \n",
       "25                  Editorials             876          0.001277   \n",
       "26          College Basketball             751          0.001094   \n",
       "27             Room For Debate             749          0.001092   \n",
       "28          Opinion | Politics             696          0.001014   \n",
       "29                      Soccer             678          0.000988   \n",
       "30              Pro Basketball             628          0.000915   \n",
       "31      Wine, Beer & Cocktails             598          0.000871   \n",
       "32               Personal Tech             473          0.000689   \n",
       "33                      Tennis             447          0.000651   \n",
       "34            College Football             362          0.000528   \n",
       "35                   Australia             357          0.000520   \n",
       "36                  Retirement             327          0.000477   \n",
       "37                        Golf             320          0.000466   \n",
       "38                      Hockey             245          0.000357   \n",
       "39               Student Loans             182          0.000265   \n",
       "40                       Dance             180          0.000262   \n",
       "41                Lesson Plans             167          0.000243   \n",
       "42                   The Daily             137          0.000200   \n",
       "43                     Cycling             121          0.000176   \n",
       "44                    Weddings              93          0.000136   \n",
       "45                       Rugby              91          0.000133   \n",
       "46          Paying for College              64          0.000093   \n",
       "47                 Auto Racing              50          0.000073   \n",
       "48  401(k)'s and Similar Plans              49          0.000071   \n",
       "49                 Automobiles              29          0.000042   \n",
       "50               Neighborhoods              23          0.000034   \n",
       "51         Opinion | The World               1          0.000001   \n",
       "\n",
       "    Predict_count  Percent_predict  Percent_predict_more  \n",
       "0          408967         0.557028          1.042480e-01  \n",
       "1          236518         0.322146          1.766357e-01  \n",
       "2           14010         0.019082         -2.565002e-02  \n",
       "3            9913         0.013502         -1.663208e-02  \n",
       "4            6220         0.008472         -1.770020e-02  \n",
       "5            5939         0.008089         -1.081085e-02  \n",
       "6           12208         0.016628          2.029419e-03  \n",
       "7            4505         0.006136         -7.480621e-03  \n",
       "8            7701         0.010489         -1.083016e-04  \n",
       "9            6560         0.008935         -2.094507e-04  \n",
       "10           1239         0.001688         -5.558014e-03  \n",
       "11           1924         0.002621         -2.950668e-03  \n",
       "12           3259         0.004439         -8.206367e-04  \n",
       "13           2214         0.003016         -2.086639e-03  \n",
       "14           1456         0.001983         -1.627922e-03  \n",
       "15           1225         0.001668         -1.694679e-03  \n",
       "16           1075         0.001464         -1.624107e-03  \n",
       "17            301         0.000410         -2.305984e-03  \n",
       "18            863         0.001175         -1.470566e-03  \n",
       "19            754         0.001027         -1.227379e-03  \n",
       "20           1393         0.001897         -2.127886e-04  \n",
       "21           2416         0.003291          1.527786e-03  \n",
       "22            302         0.000411         -1.346588e-03  \n",
       "23            219         0.000298         -1.417160e-03  \n",
       "24            163         0.000222         -1.088142e-03  \n",
       "25             80         0.000109         -1.167297e-03  \n",
       "26            364         0.000496         -5.984306e-04  \n",
       "27            301         0.000410         -6.814003e-04  \n",
       "28            177         0.000241         -7.729530e-04  \n",
       "29            265         0.000361         -6.270409e-04  \n",
       "30            308         0.000420         -4.954338e-04  \n",
       "31            700         0.000953          8.195639e-05  \n",
       "32             88         0.000120         -5.693436e-04  \n",
       "33             78         0.000106         -5.450249e-04  \n",
       "34             56         0.000076         -4.513264e-04  \n",
       "35            128         0.000174         -3.459454e-04  \n",
       "36             39         0.000053         -4.234314e-04  \n",
       "37             45         0.000061         -4.050732e-04  \n",
       "38             47         0.000064         -2.930164e-04  \n",
       "39             22         0.000030         -2.353191e-04  \n",
       "40             38         0.000052         -2.105236e-04  \n",
       "41             15         0.000020         -2.229214e-04  \n",
       "42             13         0.000018         -1.819134e-04  \n",
       "43             19         0.000026         -1.504421e-04  \n",
       "44             21         0.000029         -1.069307e-04  \n",
       "45             11         0.000015         -1.176596e-04  \n",
       "46              8         0.000011         -8.237362e-05  \n",
       "47             10         0.000014         -5.924702e-05  \n",
       "48             15         0.000020         -5.096197e-05  \n",
       "49              1         0.000001         -4.088879e-05  \n",
       "50              1         0.000001         -3.212690e-05  \n",
       "51              1         0.000001         -1.192093e-07  "
      ]
     },
     "execution_count": 28,
     "metadata": {},
     "output_type": "execute_result"
    }
   ],
   "source": [
    "prediction_results = load('Models/prediction_results.joblib')\n",
    "prediction_results"
   ]
  },
  {
   "cell_type": "markdown",
   "metadata": {
    "slideshow": {
     "slide_type": "slide"
    }
   },
   "source": [
    "# Accuracy over # of data points"
   ]
  },
  {
   "cell_type": "code",
   "execution_count": 29,
   "metadata": {
    "ExecuteTime": {
     "end_time": "2018-12-07T06:35:14.697744Z",
     "start_time": "2018-12-07T06:35:14.640418Z"
    },
    "slideshow": {
     "slide_type": "subslide"
    }
   },
   "outputs": [],
   "source": [
    "acc = pd.read_csv('Data/acc_datasize1.csv').drop('Unnamed: 0', axis=1)\n",
    "df_summ = acc.groupby('size').agg({'acc':['mean','std']})\n",
    "data = pd.DataFrame(df_summ)\n",
    "data = data.reset_index()\n"
   ]
  },
  {
   "cell_type": "code",
   "execution_count": 30,
   "metadata": {
    "ExecuteTime": {
     "end_time": "2018-12-07T06:35:16.370640Z",
     "start_time": "2018-12-07T06:35:16.187317Z"
    },
    "slideshow": {
     "slide_type": "subslide"
    }
   },
   "outputs": [
    {
     "data": {
      "text/plain": [
       "(0.56, 0.72)"
      ]
     },
     "execution_count": 30,
     "metadata": {},
     "output_type": "execute_result"
    },
    {
     "data": {
      "image/png": "[encoded data removed]",
      "text/plain": [
       "<Figure size 432x288 with 1 Axes>"
      ]
     },
     "metadata": {
      "needs_background": "light"
     },
     "output_type": "display_data"
    }
   ],
   "source": [
    "plt.figure()\n",
    "plt.plot(data['size'],data.acc['mean'],color = 'black')\n",
    "plt.fill_between(data['size'],data.acc['mean']+data.acc['std'],data.acc['mean']-data.acc['std'],alpha = .5)\n",
    "plt.title('mean of accuracy over data size')\n",
    "plt.margins(x = 0, y = -.025) #zoom\n",
    "plt.ylim((.56,.72))"
   ]
  },
  {
   "cell_type": "markdown",
   "metadata": {
    "slideshow": {
     "slide_type": "slide"
    }
   },
   "source": [
    "# Conclusion"
   ]
  },
  {
   "cell_type": "markdown",
   "metadata": {
    "slideshow": {
     "slide_type": "fragment"
    }
   },
   "source": [
    "1. SVM was the best model\n",
    "2. Comments did end up being the best attribute for predicting section name\n",
    "3. The big problem: Unknowns\n",
    "4. And next time...\n",
    "    Combine vectorized data for comments with other features\n",
    "    \n",
    "    Unsupervised learning on all features to see clusters\n",
    "    \n",
    "    PCA transformation on features\n",
    "    \n",
    "    Try to classify those unknowns"
   ]
  }
 ],
 "metadata": {
  "celltoolbar": "Slideshow",
  "kernelspec": {
   "display_name": "Python 3",
   "language": "python",
   "name": "python3"
  },
  "language_info": {
   "codemirror_mode": {
    "name": "ipython",
    "version": 3
   },
   "file_extension": ".py",
   "mimetype": "text/x-python",
   "name": "python",
   "nbconvert_exporter": "python",
   "pygments_lexer": "ipython3",
   "version": "3.7.0"
  },
  "rise": {
   "autolaunch": true
  }
 },
 "nbformat": 4,
 "nbformat_minor": 2
}
