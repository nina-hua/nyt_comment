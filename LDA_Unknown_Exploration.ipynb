{
 "cells": [
  {
   "cell_type": "markdown",
   "metadata": {},
   "source": [
    "## Setup"
   ]
  },
  {
   "cell_type": "markdown",
   "metadata": {},
   "source": [
    "This notebook was adapted from the following article: https://towardsdatascience.com/improving-the-interpretation-of-topic-models-87fd2ee3847d"
   ]
  },
  {
   "cell_type": "code",
   "execution_count": 1,
   "metadata": {},
   "outputs": [],
   "source": [
    "reset -fs"
   ]
  },
  {
   "cell_type": "code",
   "execution_count": 2,
   "metadata": {},
   "outputs": [],
   "source": [
    "import numpy as np\n",
    "import pandas as pd\n",
    "import re\n",
    "import string\n",
    "\n",
    "from sklearn.feature_extraction.text import CountVectorizer\n",
    "from sklearn.decomposition import LatentDirichletAllocation"
   ]
  },
  {
   "cell_type": "code",
   "execution_count": 3,
   "metadata": {},
   "outputs": [],
   "source": [
    "RANDOM_STATE = 28"
   ]
  },
  {
   "cell_type": "markdown",
   "metadata": {},
   "source": [
    "## Loading Data"
   ]
  },
  {
   "cell_type": "code",
   "execution_count": 4,
   "metadata": {},
   "outputs": [],
   "source": [
    "comments = 'Data/CommentsApril2018.csv'\n",
    "articles = 'Data/ArticlesApril2018.csv'"
   ]
  },
  {
   "cell_type": "code",
   "execution_count": 5,
   "metadata": {},
   "outputs": [
    {
     "name": "stderr",
     "output_type": "stream",
     "text": [
      "/home/vietpride12/anaconda3/lib/python3.7/site-packages/IPython/core/interactiveshell.py:2785: DtypeWarning: Columns (32) have mixed types. Specify dtype option on import or set low_memory=False.\n",
      "  interactivity=interactivity, compiler=compiler, result=result)\n"
     ]
    }
   ],
   "source": [
    "comm = pd.read_csv(comments)\n",
    "art = pd.read_csv(articles)"
   ]
  },
  {
   "cell_type": "markdown",
   "metadata": {},
   "source": [
    "Column \"userTitle\" has both NaN and string data types. Replace Nan with \"Unknown\" to have one uniform data type in the column"
   ]
  },
  {
   "cell_type": "code",
   "execution_count": 6,
   "metadata": {},
   "outputs": [
    {
     "data": {
      "text/html": [
       "<div>\n",
       "<style scoped>\n",
       "    .dataframe tbody tr th:only-of-type {\n",
       "        vertical-align: middle;\n",
       "    }\n",
       "\n",
       "    .dataframe tbody tr th {\n",
       "        vertical-align: top;\n",
       "    }\n",
       "\n",
       "    .dataframe thead th {\n",
       "        text-align: right;\n",
       "    }\n",
       "</style>\n",
       "<table border=\"1\" class=\"dataframe\">\n",
       "  <thead>\n",
       "    <tr style=\"text-align: right;\">\n",
       "      <th></th>\n",
       "      <th>approveDate</th>\n",
       "      <th>articleID</th>\n",
       "      <th>articleWordCount</th>\n",
       "      <th>commentBody</th>\n",
       "      <th>commentID</th>\n",
       "      <th>commentSequence</th>\n",
       "      <th>commentTitle</th>\n",
       "      <th>commentType</th>\n",
       "      <th>createDate</th>\n",
       "      <th>depth</th>\n",
       "      <th>...</th>\n",
       "      <th>status</th>\n",
       "      <th>timespeople</th>\n",
       "      <th>trusted</th>\n",
       "      <th>typeOfMaterial</th>\n",
       "      <th>updateDate</th>\n",
       "      <th>userDisplayName</th>\n",
       "      <th>userID</th>\n",
       "      <th>userLocation</th>\n",
       "      <th>userTitle</th>\n",
       "      <th>userURL</th>\n",
       "    </tr>\n",
       "  </thead>\n",
       "  <tbody>\n",
       "    <tr>\n",
       "      <th>0</th>\n",
       "      <td>1524594282</td>\n",
       "      <td>5adf6684068401528a2aa69b</td>\n",
       "      <td>781.0</td>\n",
       "      <td>How could the league possibly refuse this offe...</td>\n",
       "      <td>26853969.0</td>\n",
       "      <td>26853969.0</td>\n",
       "      <td>&lt;br/&gt;</td>\n",
       "      <td>comment</td>\n",
       "      <td>1524594011</td>\n",
       "      <td>1.0</td>\n",
       "      <td>...</td>\n",
       "      <td>approved</td>\n",
       "      <td>1</td>\n",
       "      <td>0</td>\n",
       "      <td>News</td>\n",
       "      <td>1524594282</td>\n",
       "      <td>Christopher Rillo</td>\n",
       "      <td>46566740.0</td>\n",
       "      <td>San Francisco</td>\n",
       "      <td>Unknown</td>\n",
       "      <td>NaN</td>\n",
       "    </tr>\n",
       "    <tr>\n",
       "      <th>1</th>\n",
       "      <td>1524594252</td>\n",
       "      <td>5adf6684068401528a2aa69b</td>\n",
       "      <td>781.0</td>\n",
       "      <td>So then the execs can be like \"yeah...we will ...</td>\n",
       "      <td>26853699.0</td>\n",
       "      <td>26853699.0</td>\n",
       "      <td>&lt;br/&gt;</td>\n",
       "      <td>comment</td>\n",
       "      <td>1524593146</td>\n",
       "      <td>1.0</td>\n",
       "      <td>...</td>\n",
       "      <td>approved</td>\n",
       "      <td>1</td>\n",
       "      <td>0</td>\n",
       "      <td>News</td>\n",
       "      <td>1524594252</td>\n",
       "      <td>Matt Brand</td>\n",
       "      <td>64324866.0</td>\n",
       "      <td>Williamsburg, Brooklyn</td>\n",
       "      <td>Unknown</td>\n",
       "      <td>NaN</td>\n",
       "    </tr>\n",
       "    <tr>\n",
       "      <th>2</th>\n",
       "      <td>1524594250</td>\n",
       "      <td>5adf6684068401528a2aa69b</td>\n",
       "      <td>781.0</td>\n",
       "      <td>I would not want to play chess against these c...</td>\n",
       "      <td>26853677.0</td>\n",
       "      <td>26853677.0</td>\n",
       "      <td>&lt;br/&gt;</td>\n",
       "      <td>comment</td>\n",
       "      <td>1524593032</td>\n",
       "      <td>1.0</td>\n",
       "      <td>...</td>\n",
       "      <td>approved</td>\n",
       "      <td>1</td>\n",
       "      <td>0</td>\n",
       "      <td>News</td>\n",
       "      <td>1524594250</td>\n",
       "      <td>Joseph</td>\n",
       "      <td>78105093.0</td>\n",
       "      <td>Fayetteville, AR</td>\n",
       "      <td>Unknown</td>\n",
       "      <td>NaN</td>\n",
       "    </tr>\n",
       "    <tr>\n",
       "      <th>3</th>\n",
       "      <td>1524593431</td>\n",
       "      <td>5adf6684068401528a2aa69b</td>\n",
       "      <td>781.0</td>\n",
       "      <td>Could the cheerleaders join the Actors' Equity...</td>\n",
       "      <td>26853784.0</td>\n",
       "      <td>26853784.0</td>\n",
       "      <td>&lt;br/&gt;</td>\n",
       "      <td>comment</td>\n",
       "      <td>1524593426</td>\n",
       "      <td>1.0</td>\n",
       "      <td>...</td>\n",
       "      <td>approved</td>\n",
       "      <td>0</td>\n",
       "      <td>0</td>\n",
       "      <td>News</td>\n",
       "      <td>1524593431</td>\n",
       "      <td>Stephen</td>\n",
       "      <td>81939618.0</td>\n",
       "      <td>Phoenix, AZ</td>\n",
       "      <td>Unknown</td>\n",
       "      <td>NaN</td>\n",
       "    </tr>\n",
       "    <tr>\n",
       "      <th>4</th>\n",
       "      <td>1524595048</td>\n",
       "      <td>5adf653f068401528a2aa697</td>\n",
       "      <td>656.0</td>\n",
       "      <td>Seeking conclusions which support preconceived...</td>\n",
       "      <td>26854236.0</td>\n",
       "      <td>26854236.0</td>\n",
       "      <td>&lt;br/&gt;</td>\n",
       "      <td>comment</td>\n",
       "      <td>1524595043</td>\n",
       "      <td>1.0</td>\n",
       "      <td>...</td>\n",
       "      <td>approved</td>\n",
       "      <td>1</td>\n",
       "      <td>0</td>\n",
       "      <td>News</td>\n",
       "      <td>1524595048</td>\n",
       "      <td>Paul Zorsky</td>\n",
       "      <td>58642997.0</td>\n",
       "      <td>Texas</td>\n",
       "      <td>Unknown</td>\n",
       "      <td>NaN</td>\n",
       "    </tr>\n",
       "  </tbody>\n",
       "</table>\n",
       "<p>5 rows × 34 columns</p>\n",
       "</div>"
      ],
      "text/plain": [
       "   approveDate                 articleID  articleWordCount  \\\n",
       "0   1524594282  5adf6684068401528a2aa69b             781.0   \n",
       "1   1524594252  5adf6684068401528a2aa69b             781.0   \n",
       "2   1524594250  5adf6684068401528a2aa69b             781.0   \n",
       "3   1524593431  5adf6684068401528a2aa69b             781.0   \n",
       "4   1524595048  5adf653f068401528a2aa697             656.0   \n",
       "\n",
       "                                         commentBody   commentID  \\\n",
       "0  How could the league possibly refuse this offe...  26853969.0   \n",
       "1  So then the execs can be like \"yeah...we will ...  26853699.0   \n",
       "2  I would not want to play chess against these c...  26853677.0   \n",
       "3  Could the cheerleaders join the Actors' Equity...  26853784.0   \n",
       "4  Seeking conclusions which support preconceived...  26854236.0   \n",
       "\n",
       "   commentSequence commentTitle commentType  createDate  depth   ...     \\\n",
       "0       26853969.0        <br/>     comment  1524594011    1.0   ...      \n",
       "1       26853699.0        <br/>     comment  1524593146    1.0   ...      \n",
       "2       26853677.0        <br/>     comment  1524593032    1.0   ...      \n",
       "3       26853784.0        <br/>     comment  1524593426    1.0   ...      \n",
       "4       26854236.0        <br/>     comment  1524595043    1.0   ...      \n",
       "\n",
       "     status  timespeople trusted  typeOfMaterial  updateDate  \\\n",
       "0  approved            1       0            News  1524594282   \n",
       "1  approved            1       0            News  1524594252   \n",
       "2  approved            1       0            News  1524594250   \n",
       "3  approved            0       0            News  1524593431   \n",
       "4  approved            1       0            News  1524595048   \n",
       "\n",
       "     userDisplayName      userID            userLocation  userTitle  userURL  \n",
       "0  Christopher Rillo  46566740.0           San Francisco    Unknown      NaN  \n",
       "1         Matt Brand  64324866.0  Williamsburg, Brooklyn    Unknown      NaN  \n",
       "2             Joseph  78105093.0        Fayetteville, AR    Unknown      NaN  \n",
       "3            Stephen  81939618.0             Phoenix, AZ    Unknown      NaN  \n",
       "4        Paul Zorsky  58642997.0                   Texas    Unknown      NaN  \n",
       "\n",
       "[5 rows x 34 columns]"
      ]
     },
     "execution_count": 6,
     "metadata": {},
     "output_type": "execute_result"
    }
   ],
   "source": [
    "comm.iloc[:, 32] = comm.iloc[:, 32].replace(np.nan, 'Unknown', regex=True); comm.head()"
   ]
  },
  {
   "cell_type": "markdown",
   "metadata": {},
   "source": [
    "Keeping the comments with an 'unknown' section name"
   ]
  },
  {
   "cell_type": "code",
   "execution_count": 7,
   "metadata": {},
   "outputs": [],
   "source": [
    "# keeping comments with unknown section name \n",
    "unknown_filt = (comm.sectionName == \"Unknown\") & (comm.commentType == \"comment\")\n",
    "comm_filt = comm[unknown_filt].copy().reset_index()"
   ]
  },
  {
   "cell_type": "code",
   "execution_count": 8,
   "metadata": {},
   "outputs": [],
   "source": [
    "# keeping articles that match the unknown section name \n",
    "art_filt = art.loc[art['articleID'].isin(set(comm_filt['articleID']))]"
   ]
  },
  {
   "cell_type": "code",
   "execution_count": 9,
   "metadata": {},
   "outputs": [],
   "source": [
    "df_articles = art_filt.loc[:,['articleID', 'headline']]"
   ]
  },
  {
   "cell_type": "code",
   "execution_count": 10,
   "metadata": {},
   "outputs": [],
   "source": [
    "df_comments = comm_filt.loc[:, ['articleID', 'commentBody']]"
   ]
  },
  {
   "cell_type": "code",
   "execution_count": 11,
   "metadata": {},
   "outputs": [],
   "source": [
    "data = df_articles.merge(df_comments, how='inner')"
   ]
  },
  {
   "cell_type": "code",
   "execution_count": 12,
   "metadata": {},
   "outputs": [
    {
     "data": {
      "text/html": [
       "<div>\n",
       "<style scoped>\n",
       "    .dataframe tbody tr th:only-of-type {\n",
       "        vertical-align: middle;\n",
       "    }\n",
       "\n",
       "    .dataframe tbody tr th {\n",
       "        vertical-align: top;\n",
       "    }\n",
       "\n",
       "    .dataframe thead th {\n",
       "        text-align: right;\n",
       "    }\n",
       "</style>\n",
       "<table border=\"1\" class=\"dataframe\">\n",
       "  <thead>\n",
       "    <tr style=\"text-align: right;\">\n",
       "      <th></th>\n",
       "      <th>articleID</th>\n",
       "      <th>headline</th>\n",
       "      <th>commentBody</th>\n",
       "    </tr>\n",
       "  </thead>\n",
       "  <tbody>\n",
       "    <tr>\n",
       "      <th>0</th>\n",
       "      <td>5adf653f068401528a2aa697</td>\n",
       "      <td>E.P.A. to Unveil a New Rule. Its Effect: Less ...</td>\n",
       "      <td>Seeking conclusions which support preconceived...</td>\n",
       "    </tr>\n",
       "    <tr>\n",
       "      <th>1</th>\n",
       "      <td>5adf653f068401528a2aa697</td>\n",
       "      <td>E.P.A. to Unveil a New Rule. Its Effect: Less ...</td>\n",
       "      <td>Pruitt:  First eliminate the scientists and no...</td>\n",
       "    </tr>\n",
       "    <tr>\n",
       "      <th>2</th>\n",
       "      <td>5adf653f068401528a2aa697</td>\n",
       "      <td>E.P.A. to Unveil a New Rule. Its Effect: Less ...</td>\n",
       "      <td>This is a shameful attack on the environment a...</td>\n",
       "    </tr>\n",
       "    <tr>\n",
       "      <th>3</th>\n",
       "      <td>5adf653f068401528a2aa697</td>\n",
       "      <td>E.P.A. to Unveil a New Rule. Its Effect: Less ...</td>\n",
       "      <td>“It gives people the opportunity in real time ...</td>\n",
       "    </tr>\n",
       "    <tr>\n",
       "      <th>4</th>\n",
       "      <td>5adf653f068401528a2aa697</td>\n",
       "      <td>E.P.A. to Unveil a New Rule. Its Effect: Less ...</td>\n",
       "      <td>Given recent revelations about Mr. Pruitt's mo...</td>\n",
       "    </tr>\n",
       "  </tbody>\n",
       "</table>\n",
       "</div>"
      ],
      "text/plain": [
       "                  articleID  \\\n",
       "0  5adf653f068401528a2aa697   \n",
       "1  5adf653f068401528a2aa697   \n",
       "2  5adf653f068401528a2aa697   \n",
       "3  5adf653f068401528a2aa697   \n",
       "4  5adf653f068401528a2aa697   \n",
       "\n",
       "                                            headline  \\\n",
       "0  E.P.A. to Unveil a New Rule. Its Effect: Less ...   \n",
       "1  E.P.A. to Unveil a New Rule. Its Effect: Less ...   \n",
       "2  E.P.A. to Unveil a New Rule. Its Effect: Less ...   \n",
       "3  E.P.A. to Unveil a New Rule. Its Effect: Less ...   \n",
       "4  E.P.A. to Unveil a New Rule. Its Effect: Less ...   \n",
       "\n",
       "                                         commentBody  \n",
       "0  Seeking conclusions which support preconceived...  \n",
       "1  Pruitt:  First eliminate the scientists and no...  \n",
       "2  This is a shameful attack on the environment a...  \n",
       "3  “It gives people the opportunity in real time ...  \n",
       "4  Given recent revelations about Mr. Pruitt's mo...  "
      ]
     },
     "execution_count": 12,
     "metadata": {},
     "output_type": "execute_result"
    }
   ],
   "source": [
    "data.head()"
   ]
  },
  {
   "cell_type": "code",
   "execution_count": 13,
   "metadata": {},
   "outputs": [],
   "source": [
    "documents = list(data['commentBody'])"
   ]
  },
  {
   "cell_type": "code",
   "execution_count": 14,
   "metadata": {},
   "outputs": [],
   "source": [
    "no_features = 1000"
   ]
  },
  {
   "cell_type": "code",
   "execution_count": 15,
   "metadata": {},
   "outputs": [],
   "source": [
    "# LDA can only use raw term counts for LDA because it is a probabilistic graphical model\n",
    "tf_vectorizer = CountVectorizer(max_df=0.95, min_df=2, max_features=no_features, stop_words='english')\n",
    "tf = tf_vectorizer.fit_transform(documents)\n",
    "tf_feature_names = tf_vectorizer.get_feature_names()"
   ]
  },
  {
   "cell_type": "code",
   "execution_count": 16,
   "metadata": {},
   "outputs": [],
   "source": [
    "# there are 35 sectionName types \n",
    "no_topics = 35 "
   ]
  },
  {
   "cell_type": "code",
   "execution_count": 17,
   "metadata": {},
   "outputs": [],
   "source": [
    "def display_topics(H, W, feature_names, data, documents, no_top_words, no_top_documents):\n",
    "    \"\"\"\n",
    "    https://towardsdatascience.com/improving-the-interpretation-of-topic-models-87fd2ee3847d\n",
    "    \n",
    "    outputs a \n",
    "    - numerical index as a topic name \n",
    "    - top words of a topic \n",
    "    - adjusted code to print the top documents (article titles) within the topic \n",
    "        \n",
    "    \"\"\"\n",
    "    for topic_idx, topic in enumerate(H):\n",
    "        print(f\"Topic %d:{topic_idx}\")\n",
    "        print(\" \".join([feature_names[i] for i in topic.argsort()[:-no_top_words - 1:-1]]))\n",
    "        top_doc_indices = np.argsort( W[:,topic_idx] )[::-1][0:no_top_documents]\n",
    "        for doc_index in top_doc_indices:\n",
    "            print(data.loc[data['commentBody'] == documents[doc_index]]['headline'].to_string(header=False, index=False))"
   ]
  },
  {
   "cell_type": "code",
   "execution_count": 18,
   "metadata": {},
   "outputs": [
    {
     "name": "stderr",
     "output_type": "stream",
     "text": [
      "/home/vietpride12/anaconda3/lib/python3.7/site-packages/sklearn/decomposition/online_lda.py:536: DeprecationWarning: The default value for 'learning_method' will be changed from 'online' to 'batch' in the release 0.20. This warning was introduced in 0.18.\n",
      "  DeprecationWarning)\n"
     ]
    }
   ],
   "source": [
    "lda_comm = LatentDirichletAllocation(n_components=no_topics,random_state=RANDOM_STATE)\n",
    "lda_model = lda_comm.fit(tf)\n",
    "lda_W = lda_model.transform(tf)\n",
    "lda_H = lda_model.components_"
   ]
  },
  {
   "cell_type": "code",
   "execution_count": 19,
   "metadata": {},
   "outputs": [
    {
     "name": "stdout",
     "output_type": "stream",
     "text": [
      "Topic %d:0\n",
      "political behavior certainly god tv\n",
      "Why Not Mike Pence?\n",
      "Is It Real Policy, or Is It Just Reality TV?\n",
      "Topic %d:1\n",
      "gun class guns middle racism\n",
      "Fighting Over Chores? Spend Some Money, Save t...\n",
      "Trump Wants America to Revert to the Queens of...\n",
      "Topic %d:2\n",
      "best mind respect expect cohen\n",
      "Unknown\n",
      "Unknown\n",
      "Topic %d:3\n",
      "ll paid federal buy based\n",
      "Orlando Gunman’s Wife Is Acquitted in Shootings\n",
      "Photos of Gynecological Tools From Centuries Past\n",
      "Topic %d:4\n",
      "party republican republicans democrats voters\n",
      "Unknown\n",
      "Happy Birthday, Karl Marx. You Were Right!\n",
      "Topic %d:5\n",
      "care job trying important child\n",
      "Painfully Sick From Marijuana\n",
      "E.P.A. to Unveil a New Rule. Its Effect: Less ...\n",
      "Topic %d:6\n",
      "society police story control days\n",
      "An Overdue Thanks\n",
      "A Prodigy Redeemed\n",
      "Topic %d:7\n",
      "children black pruitt congress citizens\n",
      "How to Win An Argument About Guns\n",
      "Unknown\n",
      "Topic %d:8\n",
      "trump white president comey house\n",
      "Patron Who Wrested Rifle Says He Was ‘Just Try...\n",
      "The Tragedy of James Comey\n",
      "Topic %d:9\n",
      "years time work home ago\n",
      "‘They Were Never Going To Let Me Be President’\n",
      "36 Hours in Victoria, British Columbia\n",
      "Topic %d:10\n",
      "know believe true says wealthy\n",
      "Starbucks  Will Close 8,000 Stores For Training\n",
      "Life After Disgrace?\n",
      "Topic %d:11\n",
      "school year students teachers high\n",
      "Worried About Risky Teenage Behavior? Make Sch...\n",
      "What’s Going On in This Picture? | April 30, 2018\n",
      "Topic %d:12\n",
      "right country human like run\n",
      "It’s Westworld. What’s Wrong With Cruelty to R...\n",
      "How to Prevent a Racist Hoodie\n",
      "Topic %d:13\n",
      "mr simply ms told wish\n",
      "Small Slice of Pizza\n",
      "Trump’s One-Night Stand Turns Into a Legal Nig...\n",
      "Topic %d:14\n",
      "good bad hard thing agree\n",
      "Can Dirt Save the Earth?\n",
      "Good Riddance, Mr. Speaker\n",
      "Topic %d:15\n",
      "br new york said americans\n",
      "We’re Bad at Evaluating Risk. How Doctors Can ...\n",
      "It’s Curtains for ‘Gypsy’\n",
      "Topic %d:16\n",
      "trump news democracy fox case\n",
      "California Vows to Fight U.S. Efforts to Reduc...\n",
      "Horror of Being Governed by 'Fox &amp; Friends'\n",
      "Topic %d:17\n",
      "vote https com www target\n",
      "Friday Night Music on Saturday: The Lone Bellow\n",
      "Lead Off\n",
      "Topic %d:18\n",
      "media social family american world\n",
      "This Common Question Reinforces the Gender Pay...\n",
      "Unknown\n",
      "Topic %d:19\n",
      "article little self nyt reading\n",
      "Student Loan Showdown:  Where Do Borrowers Hav...\n",
      "Our Gold-Leaf Presidency\n",
      "Topic %d:20\n",
      "tax public place rich cut\n",
      "Investment Holds Steady After Tax Cut\n",
      "How’s That Tax Cut Working Out?\n",
      "Topic %d:21\n",
      "reason read conservative face truly\n",
      "Mis-Unabbreviated\n",
      "Outrage for Some, for Others It’s Just Everyda...\n",
      "Topic %d:22\n",
      "better live liberal having second\n",
      "Now Early for Work, Frustrated New Yorkers Bla...\n",
      "Oaxaca on the Gowanus\n",
      "Topic %d:23\n",
      "people like war need just\n",
      "What’s Going On in This Picture? | April 16, 2018\n",
      "Buying Political Ad on Facebook?  The Anonymou...\n",
      "Topic %d:24\n",
      "state amp yes truth working\n",
      "Scott Pruitt, Man of Little Shame\n",
      "Scott Pruitt, Man of Little Shame\n",
      "Topic %d:25\n",
      "life times feel free character\n",
      "For Better, for Worse and Things You Can’t Rem...\n",
      "Not Screaming for Ice Cream\n",
      "Topic %d:26\n",
      "great education china need ryan\n",
      "E.P.A. to Unveil a New Rule. Its Effect: Less ...\n",
      "U.S.-China Trade Tensions   Send Indexes Lower...\n",
      "Topic %d:27\n",
      "think don like just did\n",
      "America  Abhors  Impeachment\n",
      "Expressions of Affection\n",
      "Topic %d:28\n",
      "people states thank got lives\n",
      "E.P.A. to Unveil a New Rule. Its Effect: Less ...\n",
      "Painfully Sick From Marijuana\n",
      "Topic %d:29\n",
      "person change hope majority issues\n",
      "Officials at E.P.A. Raised Concerns And Were O...\n",
      "E.P.A. to Unveil a New Rule. Its Effect: Less ...\n",
      "Topic %d:30\n",
      "women men does matter continue\n",
      "Like to Go Out in Sweatpants?  Don’t Be an N.F...\n",
      "Like to Go Out in Sweatpants?  Don’t Be an N.F...\n",
      "Topic %d:31\n",
      "america time new maybe old\n",
      "YouTube Complaints From Attacker Echoed Fight ...\n",
      "Groped by Fans, Pro Cheerleaders Say Bosses Ha...\n",
      "Topic %d:32\n",
      "money pay big issue politics\n",
      "Warming Up for His Grilling In Jacket, Tie and...\n",
      "Now Early for Work, Frustrated New Yorkers Bla...\n",
      "Topic %d:33\n",
      "power government americans rights point\n",
      "The Law Is Coming, Mr. Trump\n",
      "The Equal Rights Amendment Returns\n",
      "Topic %d:34\n",
      "man health poor term 000\n",
      "Cancer Label On Coffee Has Its Own Risks\n",
      "Giving Voice  To the Victims  Of Racist Terror\n"
     ]
    }
   ],
   "source": [
    "no_top_words = 5\n",
    "no_top_documents = 2\n",
    "display_topics(lda_H, lda_W, tf_feature_names, data, documents, no_top_words, no_top_documents)"
   ]
  },
  {
   "cell_type": "markdown",
   "metadata": {},
   "source": [
    "## Using Grid Search"
   ]
  },
  {
   "cell_type": "code",
   "execution_count": 20,
   "metadata": {},
   "outputs": [],
   "source": [
    "from sklearn.pipeline import Pipeline\n",
    "from sklearn.model_selection import GridSearchCV"
   ]
  },
  {
   "cell_type": "code",
   "execution_count": 21,
   "metadata": {},
   "outputs": [],
   "source": [
    "grid_params = dict(vec__ngram_range=[(1,1), (1,2), (1,3)],\n",
    "                   clf__learning_method=['online', 'batch'])"
   ]
  },
  {
   "cell_type": "code",
   "execution_count": 22,
   "metadata": {},
   "outputs": [],
   "source": [
    "lda_gs = Pipeline([('vec', CountVectorizer(max_df=0.95, min_df=2, max_features=no_features,stop_words='english')),\n",
    "                       ('clf', LatentDirichletAllocation(n_components=no_topics, max_iter=5, random_state=RANDOM_STATE))])\n"
   ]
  },
  {
   "cell_type": "code",
   "execution_count": 23,
   "metadata": {},
   "outputs": [],
   "source": [
    "gs = GridSearchCV(estimator=lda_gs,\n",
    "                 param_grid=grid_params,\n",
    "                 cv=5,\n",
    "                 n_jobs=-1)"
   ]
  },
  {
   "cell_type": "code",
   "execution_count": 24,
   "metadata": {},
   "outputs": [
    {
     "data": {
      "text/plain": [
       "GridSearchCV(cv=5, error_score='raise',\n",
       "       estimator=Pipeline(memory=None,\n",
       "     steps=[('vec', CountVectorizer(analyzer='word', binary=False, decode_error='strict',\n",
       "        dtype=<class 'numpy.int64'>, encoding='utf-8', input='content',\n",
       "        lowercase=True, max_df=0.95, max_features=1000, min_df=2,\n",
       "        ngram_range=(1, 1), preprocessor=None, stop_words='english',\n",
       "        ..._tol=0.1, random_state=28,\n",
       "             topic_word_prior=None, total_samples=1000000.0, verbose=0))]),\n",
       "       fit_params=None, iid=True, n_jobs=-1,\n",
       "       param_grid={'vec__ngram_range': [(1, 1), (1, 2), (1, 3)], 'clf__learning_method': ['online', 'batch']},\n",
       "       pre_dispatch='2*n_jobs', refit=True, return_train_score='warn',\n",
       "       scoring=None, verbose=0)"
      ]
     },
     "execution_count": 24,
     "metadata": {},
     "output_type": "execute_result"
    }
   ],
   "source": [
    "gs.fit(documents)"
   ]
  },
  {
   "cell_type": "code",
   "execution_count": 25,
   "metadata": {},
   "outputs": [
    {
     "data": {
      "text/plain": [
       "Pipeline(memory=None,\n",
       "     steps=[('vec', CountVectorizer(analyzer='word', binary=False, decode_error='strict',\n",
       "        dtype=<class 'numpy.int64'>, encoding='utf-8', input='content',\n",
       "        lowercase=True, max_df=0.95, max_features=1000, min_df=2,\n",
       "        ngram_range=(1, 1), preprocessor=None, stop_words='english',\n",
       "        ...          random_state=28, topic_word_prior=None,\n",
       "             total_samples=1000000.0, verbose=0))])"
      ]
     },
     "execution_count": 25,
     "metadata": {},
     "output_type": "execute_result"
    }
   ],
   "source": [
    "gs.best_estimator_"
   ]
  },
  {
   "cell_type": "code",
   "execution_count": 26,
   "metadata": {},
   "outputs": [
    {
     "data": {
      "text/plain": [
       "-2814310.2509819125"
      ]
     },
     "execution_count": 26,
     "metadata": {},
     "output_type": "execute_result"
    }
   ],
   "source": [
    "gs.best_score_"
   ]
  },
  {
   "cell_type": "markdown",
   "metadata": {},
   "source": [
    "<br>\n",
    "<br>\n",
    "<br>"
   ]
  },
  {
   "cell_type": "markdown",
   "metadata": {},
   "source": [
    "## Save Model"
   ]
  },
  {
   "cell_type": "code",
   "execution_count": 30,
   "metadata": {},
   "outputs": [
    {
     "data": {
      "text/plain": [
       "['Models/LDA_Unknowns.joblib']"
      ]
     },
     "execution_count": 30,
     "metadata": {},
     "output_type": "execute_result"
    }
   ],
   "source": [
    "from joblib import dump, load\n",
    "dump(gs.best_estimator_, 'Models/LDA_Unknowns.joblib') "
   ]
  },
  {
   "cell_type": "markdown",
   "metadata": {},
   "source": [
    "## Save Notebook"
   ]
  },
  {
   "cell_type": "code",
   "execution_count": 31,
   "metadata": {},
   "outputs": [],
   "source": [
    "import dill\n",
    "dill.dump_session('Notebook_Saves/LDA_Unknown_Exploration.db')"
   ]
  }
 ],
 "metadata": {
  "kernelspec": {
   "display_name": "Python 3",
   "language": "python",
   "name": "python3"
  },
  "language_info": {
   "codemirror_mode": {
    "name": "ipython",
    "version": 3
   },
   "file_extension": ".py",
   "mimetype": "text/x-python",
   "name": "python",
   "nbconvert_exporter": "python",
   "pygments_lexer": "ipython3",
   "version": "3.7.0"
  }
 },
 "nbformat": 4,
 "nbformat_minor": 2
}
