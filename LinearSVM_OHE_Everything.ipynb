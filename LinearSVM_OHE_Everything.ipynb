{
 "cells": [
  {
   "cell_type": "markdown",
   "metadata": {},
   "source": [
    "## Setup"
   ]
  },
  {
   "cell_type": "code",
   "execution_count": 1,
   "metadata": {},
   "outputs": [],
   "source": [
    "reset -fs"
   ]
  },
  {
   "cell_type": "code",
   "execution_count": 2,
   "metadata": {},
   "outputs": [],
   "source": [
    "import numpy as np\n",
    "import pandas as pd\n",
    "import re\n",
    "import string\n",
    "\n",
    "from sklearn.metrics import accuracy_score\n",
    "from sklearn.model_selection import train_test_split\n",
    "from sklearn.pipeline import Pipeline\n",
    "from sklearn.svm import LinearSVC\n",
    "\n",
    "from sklearn.feature_extraction.text import TfidfVectorizer\n",
    "from sklearn.feature_extraction.text import ENGLISH_STOP_WORDS\n",
    "from nltk.stem.porter import PorterStemmer"
   ]
  },
  {
   "cell_type": "code",
   "execution_count": 3,
   "metadata": {},
   "outputs": [],
   "source": [
    "RANDOM_STATE = 28"
   ]
  },
  {
   "cell_type": "markdown",
   "metadata": {},
   "source": [
    "## Load Data"
   ]
  },
  {
   "cell_type": "code",
   "execution_count": 4,
   "metadata": {},
   "outputs": [],
   "source": [
    "# comments = 'Data/combined_comments.csv'\n",
    "comments = '/Users/Nina/Downloads/combined_everything.csv'"
   ]
  },
  {
   "cell_type": "code",
   "execution_count": null,
   "metadata": {},
   "outputs": [],
   "source": [
    "comm = pd.read_csv(comments).drop('Unnamed: 0', axis=1)"
   ]
  },
  {
   "cell_type": "markdown",
   "metadata": {},
   "source": [
    "Column \"userTitle\" has both NaN and string data types. Replace Nan with \"Unknown\" to have one uniform data type in the column"
   ]
  },
  {
   "cell_type": "code",
   "execution_count": null,
   "metadata": {},
   "outputs": [],
   "source": [
    "comm.iloc[:, 32] = comm.iloc[:, 32].replace(np.nan, 'Unknown', regex=True); comm.head()"
   ]
  },
  {
   "cell_type": "markdown",
   "metadata": {},
   "source": [
    "#### One-Hot Encoding features after removing 'Unknown' Section Names "
   ]
  },
  {
   "cell_type": "code",
   "execution_count": null,
   "metadata": {},
   "outputs": [],
   "source": [
    "from sklearn.preprocessing import OneHotEncoder, LabelEncoder\n",
    "filt = (comm.sectionName != \"Unknown\") & (comm.commentType == \"comment\")\n",
    "comm_filt = comm[filt].copy().reset_index()"
   ]
  },
  {
   "cell_type": "code",
   "execution_count": null,
   "metadata": {},
   "outputs": [],
   "source": [
    "# transform and map newDesk categories \n",
    "newDesk_le = LabelEncoder()\n",
    "newDesk_labels = newDesk_le.fit_transform(comm_filt['newDesk'])\n",
    "comm_filt['newDesk_label'] = newDesk_labels\n",
    "\n",
    "# encoding newDesk\n",
    "newDesk_ohe = OneHotEncoder()\n",
    "newDesk_feature_arr = newDesk_ohe.fit_transform(comm_filt[['newDesk_label']]).toarray()\n",
    "newDesk_feature_labels = list(newDesk_le.classes_)\n",
    "newDesk_features = pd.DataFrame(newDesk_feature_arr, columns=newDesk_feature_labels)"
   ]
  },
  {
   "cell_type": "code",
   "execution_count": null,
   "metadata": {},
   "outputs": [],
   "source": [
    "# transform and map typeOfMaterial categories \n",
    "material_le = LabelEncoder()\n",
    "material_labels = material_le.fit_transform(comm_filt['typeOfMaterial'])\n",
    "comm_filt['material_label'] = material_labels\n",
    "\n",
    "# encoding typeOfMaterial\n",
    "material_ohe = OneHotEncoder()\n",
    "material_feature_arr = material_ohe.fit_transform(comm_filt[['material_label']]).toarray()\n",
    "material_feature_labels = list(material_le.classes_)\n",
    "material_features = pd.DataFrame(material_feature_arr, columns=material_feature_labels)"
   ]
  },
  {
   "cell_type": "code",
   "execution_count": null,
   "metadata": {},
   "outputs": [],
   "source": [
    "# subsetting comment data frame and concatenating with new features\n",
    "comm_filt_sub = comm_filt.loc[:,['articleID','commentID', 'commentBody', 'sectionName']]\n",
    "comm_df_ohe = pd.concat([comm_filt_sub, newDesk_features, material_features], axis=1)"
   ]
  },
  {
   "cell_type": "code",
   "execution_count": null,
   "metadata": {},
   "outputs": [],
   "source": [
    "data = comm_df_ohe.loc[:,newDesk_feature_labels]\n",
    "sections = comm_df_ohe.sectionName"
   ]
  },
  {
   "cell_type": "code",
   "execution_count": null,
   "metadata": {},
   "outputs": [],
   "source": [
    "train_data_no_unknown, test_data_no_unknown, train_target_no_unknown, test_target_no_unknown = train_test_split(data, sections, random_state=RANDOM_STATE)"
   ]
  },
  {
   "cell_type": "code",
   "execution_count": null,
   "metadata": {},
   "outputs": [],
   "source": [
    "lsvc_model = LinearSVC(random_state=RANDOM_STATE)\n",
    "lsvc_model.fit(train_data_no_unknown, train_target_no_unknown)\n",
    "predicted = lsvc_model.predict(test_data_no_unknown)\n",
    "accuracy_score(predicted, test_target_no_unknown)"
   ]
  },
  {
   "cell_type": "markdown",
   "metadata": {},
   "source": [
    "## Grid Search"
   ]
  },
  {
   "cell_type": "code",
   "execution_count": null,
   "metadata": {},
   "outputs": [],
   "source": [
    "from sklearn.model_selection import GridSearchCV"
   ]
  },
  {
   "cell_type": "code",
   "execution_count": null,
   "metadata": {},
   "outputs": [],
   "source": [
    "grid_params = dict(loss=['hinge', 'squared_hinge'])\n",
    "lsvc_model = LinearSVC(random_state=RANDOM_STATE)\n",
    "gs = GridSearchCV(estimator=lsvc_model,\n",
    "                 param_grid=grid_params,\n",
    "                 scoring='accuracy',\n",
    "                 cv=5,\n",
    "                 n_jobs=-1)\n",
    "gs.fit(train_data_no_unknown, train_target_no_unknown)"
   ]
  },
  {
   "cell_type": "code",
   "execution_count": null,
   "metadata": {},
   "outputs": [],
   "source": [
    "gs.score(test_data_no_unknown, test_target_no_unknown)"
   ]
  },
  {
   "cell_type": "code",
   "execution_count": null,
   "metadata": {},
   "outputs": [],
   "source": [
    "# from sklearn.metrics import classification_report"
   ]
  },
  {
   "cell_type": "code",
   "execution_count": null,
   "metadata": {},
   "outputs": [],
   "source": []
  },
  {
   "cell_type": "code",
   "execution_count": null,
   "metadata": {},
   "outputs": [],
   "source": []
  },
  {
   "cell_type": "code",
   "execution_count": null,
   "metadata": {},
   "outputs": [],
   "source": []
  }
 ],
 "metadata": {
  "kernelspec": {
   "display_name": "Python 3",
   "language": "python",
   "name": "python3"
  },
  "language_info": {
   "codemirror_mode": {
    "name": "ipython",
    "version": 3
   },
   "file_extension": ".py",
   "mimetype": "text/x-python",
   "name": "python",
   "nbconvert_exporter": "python",
   "pygments_lexer": "ipython3",
   "version": "3.6.6"
  }
 },
 "nbformat": 4,
 "nbformat_minor": 2
}
